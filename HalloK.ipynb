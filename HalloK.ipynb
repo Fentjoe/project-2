{
 "cells": [
  {
   "cell_type": "code",
   "execution_count": null,
   "id": "d5ccc0ed-6b59-4303-abbb-096c55da84e8",
   "metadata": {},
   "outputs": [],
   "source": [
    "Hallo test -Kika"
   ]
  },
  {
   "cell_type": "code",
   "execution_count": null,
   "id": "04754690-82b4-44a5-afd0-d67cf27534c6",
   "metadata": {},
   "outputs": [],
   "source": [
    "Hallo test -Phea"
   ]
  },
  {
   "cell_type": "code",
   "execution_count": null,
   "id": "d0b56241-9e9b-4e1b-b3e9-f4bf68e6412b",
   "metadata": {},
   "outputs": [],
   "source": [
    "Hallo test -Araksan"
   ]
  },
  {
   "cell_type": "markdown",
   "id": "456a14b2-7e89-46d3-b5f2-932b05990a23",
   "metadata": {
    "tags": []
   },
   "source": [
    "Hallo test -Fenne"
   ]
  },
  {
   "cell_type": "code",
   "execution_count": null,
   "id": "1943d65f-6d83-4733-ac84-4375d487db05",
   "metadata": {},
   "outputs": [],
   "source": []
  }
 ],
 "metadata": {
  "kernelspec": {
   "display_name": "Python 3 (ipykernel)",
   "language": "python",
   "name": "python3"
  },
  "language_info": {
   "codemirror_mode": {
    "name": "ipython",
    "version": 3
   },
   "file_extension": ".py",
   "mimetype": "text/x-python",
   "name": "python",
   "nbconvert_exporter": "python",
   "pygments_lexer": "ipython3",
   "version": "3.10.12"
  }
 },
 "nbformat": 4,
 "nbformat_minor": 5
}
