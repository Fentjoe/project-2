{
 "cells": [
  {
   "cell_type": "markdown",
   "id": "1f4c0b62-b8b7-43bb-9b83-907597cc3105",
   "metadata": {},
   "source": [
    "# Tussenproduct 1 : Data schoonmaak\n",
    "## De Haagse Hogeschool\n",
    "## Toegepaste Wiskunde\n",
    "\n",
    "\n",
    "Groep 3  \n",
    "Fenne van Agthoven, Phealana Fiamingo, Araksan Hassan, Kika van Vliet  \n",
    "Datum: 22-3-2024"
   ]
  },
  {
   "cell_type": "markdown",
   "id": "bdab3bb5-5bdb-49ca-ba94-414e2ffc4d80",
   "metadata": {},
   "source": [
    "### Functie voor het schoonmaken van de gegeven ingrediënten"
   ]
  },
  {
   "cell_type": "code",
   "execution_count": 1,
   "id": "70c0be5e-80f5-47f7-97bf-14e7a2cdc909",
   "metadata": {
    "tags": []
   },
   "outputs": [
    {
     "data": {
      "text/plain": [
       "unit\n",
       "g                    882\n",
       "el                   714\n",
       "ml                   145\n",
       "tl                    49\n",
       "kg                    41\n",
       "schaal                29\n",
       "liter                 29\n",
       "zak                    9\n",
       "struik                 8\n",
       "zakje                  5\n",
       "krop                   4\n",
       "bakje                  4\n",
       "plakje                 3\n",
       "bak                    3\n",
       "pakje                  3\n",
       "stukje                 3\n",
       "blik                   3\n",
       "blikje                 3\n",
       "bakjes                 3\n",
       "plak                   3\n",
       "cupje                  2\n",
       "stuk                   2\n",
       "stronk                 2\n",
       "sneetje                2\n",
       "pak                    2\n",
       "plakken                2\n",
       "zakjes                 2\n",
       "vel                    2\n",
       "flesje                 2\n",
       "friszoete stevige      1\n",
       "bol                    1\n",
       "friszure               1\n",
       "kruimige               1\n",
       "potje                  1\n",
       "schaaltjes             1\n",
       "grote                  1\n",
       "zakken                 1\n",
       "doos                   1\n",
       "x 750 g                1\n",
       "friszoete              1\n",
       "x 4 plakken            1\n",
       "Name: count, dtype: int64"
      ]
     },
     "execution_count": 1,
     "metadata": {},
     "output_type": "execute_result"
    }
   ],
   "source": [
    "import pandas as pd\n",
    "ingr_per_group = pd.read_csv('tabellen/ingr_per_group(1).csv')\n",
    "data_ingr = pd.read_csv('tabellen/data_ingr.csv')\n",
    "ingr_group3 = ingr_per_group[(ingr_per_group['group'] == 3)]\n",
    "onze = data_ingr[data_ingr['ingredient'].isin(ingr_group3['ingredient'])]\n",
    "onze.unit.value_counts()"
   ]
  },
  {
   "cell_type": "code",
   "execution_count": 2,
   "id": "bd38cf2c-8081-4fbe-9683-1bd9d9f85a76",
   "metadata": {
    "tags": []
   },
   "outputs": [
    {
     "data": {
      "text/plain": [
       "ingredient\n",
       "arachideolie         27\n",
       "amandelmelk           1\n",
       "Spaanse rode wijn     1\n",
       "Name: count, dtype: int64"
      ]
     },
     "execution_count": 2,
     "metadata": {},
     "output_type": "execute_result"
    }
   ],
   "source": [
    "onze[onze.unit == 'liter'].ingredient.value_counts()"
   ]
  },
  {
   "cell_type": "code",
   "execution_count": null,
   "id": "0e0b1666-41ae-4274-b1e1-528cd6dfbfa7",
   "metadata": {},
   "outputs": [],
   "source": [
    "alle_units = set(onze['unit'])\n",
    "convert_tabel = [\n",
    "    ['el', 10],\n",
    "    ['ml', 0.92], \n",
    "    ['tl', 2], \n",
    "    ['kg', 1000], \n",
    "    ['schaal', 380], \n",
    "    ['liter', 920],\n",
    "    ['zak', 1000],\n",
    "    ['struik', 900],\n",
    "    ['zakje', 950],\n",
    "    ['krop', 800],\n",
    "    ['bakje', 850],\n",
    "    ['plakje', 50],\n",
    "    ['bak', 700],\n",
    "    ['pakje', 90],\n",
    "    ['stukje', 80],\n",
    "    ['blik', 920],\n",
    "    ['blikje', 85],\n",
    "    ['bakjes', 870],\n",
    "    ['plak', 65],\n",
    "    ['cupje', 70],\n",
    "    ['stuk', 950],\n",
    "    ['stronk', 850],\n",
    "    ['sneetje', 55],\n",
    "    ['pak', 700],\n",
    "    ['plakken', 60],\n",
    "    ['zakjes', 960],\n",
    "    ['vel', 70],\n",
    "    ['flesje', 780],\n",
    "    ['friszoete stevige', 1020],\n",
    "    ['bol', 920],\n",
    "    ['friszure', 1000],\n",
    "    ['kruimige', 980],\n",
    "    ['potje', 850],\n",
    "    ['schaaltjes', 910],\n",
    "    ['grote', 900],\n",
    "    ['zakken', 1100],\n",
    "    ['doos', 1000],\n",
    "    ['x 750 g', 750],\n",
    "    ['friszoete', 1040],\n",
    "    ['x 4 plakken', 400]\n",
    "]\n",
    "\n",
    "convert_df = pd.DataFrame(convert_tabel, columns=['Eenheid', 'keer'])\n",
    "df_onze = onze.merge(convert_df, how='left', left_on='unit', right_on='Eenheid')\n",
    "df_onze.keer = df_onze.keer.fillna(1)\n",
    "df_onze.quantity = df_onze.quantity * df_onze.keer\n",
    "df_onze.unit = 'g'\n",
    "df_onze = df_onze.drop(columns=['Eenheid','keer'])\n",
    "df_onze['ingredient'] = df_onze['ingredient'].str.lower()\n",
    "data_ingr[data_ingr['Unnamed: 0'] == 20] \n",
    "data_ingr.update(df_onze)\n",
    "data_ingr.unit.value_counts()"
   ]
  },
  {
   "cell_type": "code",
   "execution_count": null,
   "id": "9cd4145a-82d0-4726-b373-fb1e24cb7c9a",
   "metadata": {},
   "outputs": [],
   "source": [
    "#zoeken naar trefwoorden en o.b.v samenvoeg groep by voor stap 2  \n",
    "df_onze.ingredient.value_counts()"
   ]
  },
  {
   "cell_type": "code",
   "execution_count": null,
   "id": "f28c960d-da32-40d5-931c-513bb63239bb",
   "metadata": {},
   "outputs": [],
   "source": [
    "a = df_onze.ingredient.value_counts().reset_index().rename(columns={\"index\": \"value\", 0: \"count\"})"
   ]
  },
  {
   "cell_type": "code",
   "execution_count": null,
   "id": "79f39c27-9318-4cbe-b772-34cbae6b6db8",
   "metadata": {},
   "outputs": [],
   "source": [
    "tomaat_t = (\"tomaat\", set([word for word in df_onze[\"ingredient\"] if \"toma\" in word and \"blik\" not in word and \"puree\"]))\n",
    "parma_t = (\"parmezaanse kaas\", set([word for word in df_onze[\"ingredient\"] if \"parm\" in word and \"prosciutto\" not in word]))\n",
    "paprika_t = (\"paprika\", set([word for word in df_onze[\"ingredient\"] if \"paprika\" in word]))\n",
    "paturain_t = (\"paturain\", set([word for word in df_onze[\"ingredient\"] if \"paturain\" in word]))\n",
    "olijven_t = (\"olijven\", set([word for word in df_onze[\"ingredient\"] if \"olij\" in word and \"olie\" not in word]))\n",
    "olijfolie_t = (\"olijfolie\", set([word for word in df_onze[\"ingredient\"] if \"olijfolie\" in word]))\n",
    "oreo_t = (\"oreo\", set([word for word in df_onze[\"ingredient\"] if \"oreo\" in word]))\n",
    "aardappel_t = (\"aardappel\", set([word for word in df_onze[\"ingredient\"] if \"pommes primeur\" in word or \"eigenheimer\" in word or \"aardappelen\" in word]))\n",
    "a_schijfjes_t = (\"aardappelschijfjes\", set([word for word in df_onze[\"ingredient\"] if \"aardappelschijfjes\" in word]))\n",
    "a_partjes_t = (\"aardappelpartjes\", set([word for word in df_onze[\"ingredient\"] if \"aardappelpartjes\" in word]))\n",
    "a_puree_t = (\"aardappelpuree\", set([word for word in df_onze[\"ingredient\"] if \"aardappelpuree\" in word]))\n",
    "ciabatta_t = (\"ciabatta\", set([word for word in df_onze[\"ingredient\"] if \"ciaba\" in word]))\n",
    "arachide_t = (\"arachide\", set([word for word in df_onze[\"ingredient\"] if \"arachide\" in word]))\n",
    "framboos_t = (\"framboos\", set([word for word in df_onze[\"ingredient\"] if \"framboos\" in word]))\n",
    "sp_peper_t = (\"spaanse peper\", set([word for word in df_onze[\"ingredient\"] if \"spaanse peper\" in word]))\n",
    "mayo_t = (\"mayonaise\", set([word for word in df_onze[\"ingredient\"] if \"mayo\" in word]))\n",
    "\n",
    "ingr_tuple_lijst = [tomaat_t, parma_t, paprika_t, paturain_t, olijven_t, olijfolie_t, oreo_t, ciabatta_t, \n",
    "                    framboos_t, sp_peper_t, mayo_t, aardappel_t, a_schijfjes_t, a_partjes_t, a_puree_t, appel_t]\n",
    "\n",
    "for x in df_onze[\"ingredient\"]:\n",
    "    for y in ingr_tuple_lijst:\n",
    "        if x in y[1]:\n",
    "            df_onze[\"ingredient\"].replace(x, y[0], inplace=True)\n"
   ]
  },
  {
   "cell_type": "markdown",
   "id": "8643fe3a-34b5-416f-8a96-531831ba9a2f",
   "metadata": {},
   "source": [
    "### Overzicht van de uitgevoerde bewerkingen."
   ]
  },
  {
   "cell_type": "markdown",
   "id": "842d25b1-0bdd-4476-b6be-7d2984eb7ef6",
   "metadata": {},
   "source": [
    "### Reflectie op de kwaliteit van de schoongemaakte data\n",
    "\n",
    "ingrediënten een naam geven is subjectief"
   ]
  },
  {
   "cell_type": "markdown",
   "id": "55ca41ac-0698-4281-a780-75e4d87d5e12",
   "metadata": {},
   "source": [
    "### Een data bestand met de voorkeur voor gerechten van elk groepslid"
   ]
  },
  {
   "cell_type": "code",
   "execution_count": null,
   "id": "68db9ab8-9ea0-4b1b-9672-ba162e244a8d",
   "metadata": {},
   "outputs": [],
   "source": []
  }
 ],
 "metadata": {
  "kernelspec": {
   "display_name": "Python 3 (ipykernel)",
   "language": "python",
   "name": "python3"
  },
  "language_info": {
   "codemirror_mode": {
    "name": "ipython",
    "version": 3
   },
   "file_extension": ".py",
   "mimetype": "text/x-python",
   "name": "python",
   "nbconvert_exporter": "python",
   "pygments_lexer": "ipython3",
   "version": "3.10.12"
  }
 },
 "nbformat": 4,
 "nbformat_minor": 5
}
