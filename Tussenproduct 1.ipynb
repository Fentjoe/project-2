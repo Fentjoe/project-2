{
 "cells": [
  {
   "cell_type": "markdown",
   "id": "1f4c0b62-b8b7-43bb-9b83-907597cc3105",
   "metadata": {},
   "source": [
    "# Tussenproduct 1 : Data schoonmaak\n",
    "## De Haagse Hogeschool\n",
    "## Toegepaste Wiskunde\n",
    "\n",
    "\n",
    "Groep 3  \n",
    "Fenne van Agthoven, Phealana Fiamingo, Araksan Hassan, Kika van Vliet  \n",
    "Datum: 22-3-2024"
   ]
  },
  {
   "cell_type": "markdown",
   "id": "bdab3bb5-5bdb-49ca-ba94-414e2ffc4d80",
   "metadata": {},
   "source": [
    "### Functie voor het schoonmaken van de gegeven ingrediënten"
   ]
  },
  {
   "cell_type": "code",
   "execution_count": 176,
   "id": "8283a549-320d-4515-bb43-5add693ca393",
   "metadata": {
    "tags": []
   },
   "outputs": [],
   "source": [
    "import pandas as pd\n",
    "# Lees de dataframes in\n",
    "ingr_per_group = pd.read_csv('tabellen/ingr_per_group(1).csv')\n",
    "data_ingr = pd.read_csv('tabellen/data_ingr.csv')\n",
    "ingr_per_group['ingredient'] = ingr_per_group['ingredient'].str.lower() # Zet alle ingredientnamen om in kleine letters\n",
    "data_ingr['ingredient'] = data_ingr['ingredient'].str.lower()\n",
    "ingr_group3 = ingr_per_group[(ingr_per_group['group'] == 3)] # Selecteer alleen de ingrediënten die bij onze groep (3) horen\n",
    "onze = data_ingr[data_ingr['ingredient'].isin(ingr_group3['ingredient'])] # Filter in de dataset de ingrediënten die bij onze groep horen\n"
   ]
  },
  {
   "cell_type": "code",
   "execution_count": 177,
   "id": "70c0be5e-80f5-47f7-97bf-14e7a2cdc909",
   "metadata": {
    "tags": []
   },
   "outputs": [],
   "source": [
    "#onze.unit.value_counts()\n",
    "#onze[onze.unit == 'liter'].ingredient.value_counts()\n",
    "\n",
    "alle_units = set(onze['unit']) # Een set van alle unieke eenheden uit de dataset\n",
    "\n",
    "# Een omrekentabel voor de verschillende eenheden naar gram\n",
    "convert_tabel = [\n",
    "    ['el', 10],\n",
    "    ['ml', 0.92], \n",
    "    ['tl', 2], \n",
    "    ['kg', 1000], \n",
    "    ['schaal', 380], \n",
    "    ['liter', 920],\n",
    "    ['zak', 1000],\n",
    "    ['struik', 900],\n",
    "    ['zakje', 950],\n",
    "    ['krop', 800],\n",
    "    ['bakje', 850],\n",
    "    ['plakje', 50],\n",
    "    ['bak', 700],\n",
    "    ['pakje', 90],\n",
    "    ['stukje', 80],\n",
    "    ['blik', 920],\n",
    "    ['blikje', 85],\n",
    "    ['bakjes', 870],\n",
    "    ['plak', 65],\n",
    "    ['cupje', 70],\n",
    "    ['stuk', 950],\n",
    "    ['stronk', 850],\n",
    "    ['sneetje', 55],\n",
    "    ['pak', 700],\n",
    "    ['plakken', 60],\n",
    "    ['zakjes', 960],\n",
    "    ['vel', 70],\n",
    "    ['flesje', 780],\n",
    "    ['friszoete stevige', 1020],\n",
    "    ['bol', 920],\n",
    "    ['friszure', 1000],\n",
    "    ['kruimige', 980],\n",
    "    ['potje', 850],\n",
    "    ['schaaltjes', 910],\n",
    "    ['grote', 900],\n",
    "    ['zakken', 1100],\n",
    "    ['doos', 1000],\n",
    "    ['x 750 g', 750],\n",
    "    ['friszoete', 1040],\n",
    "    ['x 4 plakken', 400]\n",
    "]\n",
    "\n",
    "convert_df = pd.DataFrame(convert_tabel, columns=['eenheid', 'keer']) # Maakt van de omrekentabel een dataframe\n",
    "df_onze = onze.merge(convert_df, how='left', left_on= 'unit', right_on='eenheid') # Voeg omrekentabel DataFrame samen met ons DataFRame\n",
    "df_onze.keer = df_onze.keer.fillna(1) # Vul de NaN waardes met 1\n",
    "df_onze.quantity = df_onze.quantity * df_onze.keer # Reken de hoeveelheden om naar gram\n",
    "df_onze.unit = 'g' # Verander de eenheid naar gram\n",
    "df_onze = df_onze.drop(columns=['eenheid','keer']) # Verwijder de onnodige kolommen\n",
    "\n",
    "data_ingr_res = data_ingr.merge(df_onze, how='left',on='Unnamed: 0')\n",
    "data_ingr_res['recipe'] = data_ingr_res['recipe_y'].fillna(data_ingr_res['recipe_x'])\n",
    "data_ingr_res['ingredient'] = data_ingr_res['ingredient_y'].fillna(data_ingr_res['ingredient_x'])\n",
    "data_ingr_res['quantity'] = data_ingr_res['quantity_y'].fillna(data_ingr_res['quantity_x'])\n",
    "data_ingr_res['unit'] = data_ingr_res['unit_y'].fillna(data_ingr_res['unit_x'])\n",
    "data_ingr_res.drop(columns=['recipe_x', 'recipe_y', 'ingredient_x', 'ingredient_y', 'quantity_x', 'quantity_y', 'unit_x', 'unit_y'], inplace=True)                              \n",
    "\n",
    "# Tel hoevaak elk ingredient voorkomt\n",
    "a = df_onze.ingredient.value_counts().reset_index().rename(columns={\"index\": \"value\", 0: \"count\"})\n"
   ]
  },
  {
   "cell_type": "code",
   "execution_count": 178,
   "id": "e128b774-cdb2-4707-8a9e-eaccd2c03a1a",
   "metadata": {
    "tags": []
   },
   "outputs": [
    {
     "name": "stdout",
     "output_type": "stream",
     "text": [
      "('appel', {'appelsap', 'appelstroop', 'pink lady appel', 'royal gala appel', 'appels'})\n"
     ]
    }
   ],
   "source": [
    "tomaat_t = (\"tomaat\", set([word for word in df_onze[\"ingredient\"] if \"toma\" in word and \"blik\" not in word and \"puree\"]))\n",
    "parma_t = (\"parmezaanse kaas\", set([word for word in df_onze[\"ingredient\"] if \"parm\" in word and \"prosciutto\" not in word]))\n",
    "paprika_t = (\"paprika\", set([word for word in df_onze[\"ingredient\"] if \"paprika\" in word]))\n",
    "paturain_t = (\"paturain\", set([word for word in df_onze[\"ingredient\"] if \"paturain\" in word]))\n",
    "olijven_t = (\"olijven\", set([word for word in df_onze[\"ingredient\"] if \"olij\" in word and \"olie\" not in word]))\n",
    "olijfolie_t = (\"olijfolie\", set([word for word in df_onze[\"ingredient\"] if \"olijfolie\" in word]))\n",
    "oreo_t = (\"oreo\", set([word for word in df_onze[\"ingredient\"] if \"oreo\" in word]))\n",
    "aardappel_t = (\"aardappel\", set([word for word in df_onze[\"ingredient\"] if \"pommes primeur\" in word or \"eigenheimer\" in word or \"aardappelen\" in word]))\n",
    "a_schijfjes_t = (\"aardappelschijfjes\", set([word for word in df_onze[\"ingredient\"] if \"aardappelschijfjes\" in word]))\n",
    "a_partjes_t = (\"aardappelpartjes\", set([word for word in df_onze[\"ingredient\"] if \"aardappelpartjes\" in word]))\n",
    "a_puree_t = (\"aardappelpuree\", set([word for word in df_onze[\"ingredient\"] if \"aardappelpuree\" in word]))\n",
    "ciabatta_t = (\"ciabatta\", set([word for word in df_onze[\"ingredient\"] if \"ciaba\" in word]))\n",
    "arachide_t = (\"arachide\", set([word for word in df_onze[\"ingredient\"] if \"arachide\" in word]))\n",
    "framboos_t = (\"framboos\", set([word for word in df_onze[\"ingredient\"] if \"framboos\" in word]))\n",
    "sp_peper_t = (\"spaanse peper\", set([word for word in df_onze[\"ingredient\"] if \"spaanse peper\" in word]))\n",
    "mayo_t = (\"mayonaise\", set([word for word in df_onze[\"ingredient\"] if \"mayo\" in word]))\n",
    "appel_t = (\"appel\", set([word for word in df_onze[\"ingredient\"] if \"pink lady\" in word or \"royal gala\" in word ]))\n",
    "amandel_melk_t = (\"amandeldrink\", set([word for word in df_onze[\"ingredient\"] if \"amandel drink\" in word or \"amandelmelk\" in word]))\n",
    "amandel_koek_t = (\"amandelkoekjes\", set([word for word in df_onze[\"ingredient\"] if \"amandelkoekjes\" in word]))\n",
    "\n",
    "#print(appel_t)\n",
    "\n",
    "ingr_tuple_lijst = [tomaat_t, parma_t, paprika_t, paturain_t, olijven_t, olijfolie_t, oreo_t, ciabatta_t, framboos_t, sp_peper_t, \n",
    "                    mayo_t, aardappel_t, a_schijfjes_t, a_partjes_t, a_puree_t, appel_t, amandel_melk_t, amandel_koek_t]\n",
    "\n",
    "for x in df_onze[\"ingredient\"]:\n",
    "    for y in ingr_tuple_lijst:\n",
    "        if x in y[1]:\n",
    "            df_onze[\"ingredient\"].replace(x, y[0], inplace=True)\n",
    "            \n",
    "#df_onze[:50]\n",
    "b = df_onze.ingredient.value_counts().reset_index().rename(columns={\"index\": \"value\", 0: \"count\"})\n",
    "#b[:50]"
   ]
  },
  {
   "cell_type": "code",
   "execution_count": 2,
   "id": "bd38cf2c-8081-4fbe-9683-1bd9d9f85a76",
   "metadata": {
    "tags": []
   },
   "outputs": [
    {
     "data": {
      "text/plain": [
       "ingredient\n",
       "arachideolie         27\n",
       "amandelmelk           1\n",
       "Spaanse rode wijn     1\n",
       "Name: count, dtype: int64"
      ]
     },
     "execution_count": 2,
     "metadata": {},
     "output_type": "execute_result"
    }
   ],
   "source": []
  },
  {
   "cell_type": "code",
   "execution_count": 139,
   "id": "9cd4145a-82d0-4726-b373-fb1e24cb7c9a",
   "metadata": {},
   "outputs": [
    {
     "data": {
      "text/plain": [
       "ingredient\n",
       "arachideolie                                489\n",
       "parmigiano reggiano                         151\n",
       "amandelschaafsel                             83\n",
       "tasty tom trostomaat                         72\n",
       "parmezaanse kaas                             65\n",
       "                                           ... \n",
       "afbakbagel                                    1\n",
       "vanka kawat diepvries purutblaadjes           1\n",
       "sacla pomodori al forno e capperi in pot      1\n",
       "thaise groene currypasta                      1\n",
       "riesling witte wijn                           1\n",
       "Name: count, Length: 263, dtype: int64"
      ]
     },
     "execution_count": 139,
     "metadata": {},
     "output_type": "execute_result"
    }
   ],
   "source": [
    "#zoeken naar trefwoorden en o.b.v samenvoeg groep by voor stap 2  \n",
    "df_onze.ingredient.value_counts()"
   ]
  },
  {
   "cell_type": "code",
   "execution_count": 140,
   "id": "f28c960d-da32-40d5-931c-513bb63239bb",
   "metadata": {},
   "outputs": [
    {
     "data": {
      "text/html": [
       "<div>\n",
       "<style scoped>\n",
       "    .dataframe tbody tr th:only-of-type {\n",
       "        vertical-align: middle;\n",
       "    }\n",
       "\n",
       "    .dataframe tbody tr th {\n",
       "        vertical-align: top;\n",
       "    }\n",
       "\n",
       "    .dataframe thead th {\n",
       "        text-align: right;\n",
       "    }\n",
       "</style>\n",
       "<table border=\"1\" class=\"dataframe\">\n",
       "  <thead>\n",
       "    <tr style=\"text-align: right;\">\n",
       "      <th></th>\n",
       "      <th>ingredient</th>\n",
       "      <th>count</th>\n",
       "    </tr>\n",
       "  </thead>\n",
       "  <tbody>\n",
       "    <tr>\n",
       "      <th>0</th>\n",
       "      <td>arachideolie</td>\n",
       "      <td>489</td>\n",
       "    </tr>\n",
       "    <tr>\n",
       "      <th>1</th>\n",
       "      <td>parmigiano reggiano</td>\n",
       "      <td>151</td>\n",
       "    </tr>\n",
       "    <tr>\n",
       "      <th>2</th>\n",
       "      <td>amandelschaafsel</td>\n",
       "      <td>83</td>\n",
       "    </tr>\n",
       "    <tr>\n",
       "      <th>3</th>\n",
       "      <td>tasty tom trostomaat</td>\n",
       "      <td>72</td>\n",
       "    </tr>\n",
       "    <tr>\n",
       "      <th>4</th>\n",
       "      <td>parmezaanse kaas</td>\n",
       "      <td>65</td>\n",
       "    </tr>\n",
       "    <tr>\n",
       "      <th>...</th>\n",
       "      <td>...</td>\n",
       "      <td>...</td>\n",
       "    </tr>\n",
       "    <tr>\n",
       "      <th>258</th>\n",
       "      <td>afbakbagel</td>\n",
       "      <td>1</td>\n",
       "    </tr>\n",
       "    <tr>\n",
       "      <th>259</th>\n",
       "      <td>vanka kawat diepvries purutblaadjes</td>\n",
       "      <td>1</td>\n",
       "    </tr>\n",
       "    <tr>\n",
       "      <th>260</th>\n",
       "      <td>sacla pomodori al forno e capperi in pot</td>\n",
       "      <td>1</td>\n",
       "    </tr>\n",
       "    <tr>\n",
       "      <th>261</th>\n",
       "      <td>thaise groene currypasta</td>\n",
       "      <td>1</td>\n",
       "    </tr>\n",
       "    <tr>\n",
       "      <th>262</th>\n",
       "      <td>riesling witte wijn</td>\n",
       "      <td>1</td>\n",
       "    </tr>\n",
       "  </tbody>\n",
       "</table>\n",
       "<p>263 rows × 2 columns</p>\n",
       "</div>"
      ],
      "text/plain": [
       "                                   ingredient  count\n",
       "0                                arachideolie    489\n",
       "1                         parmigiano reggiano    151\n",
       "2                            amandelschaafsel     83\n",
       "3                        tasty tom trostomaat     72\n",
       "4                            parmezaanse kaas     65\n",
       "..                                        ...    ...\n",
       "258                                afbakbagel      1\n",
       "259       vanka kawat diepvries purutblaadjes      1\n",
       "260  sacla pomodori al forno e capperi in pot      1\n",
       "261                  thaise groene currypasta      1\n",
       "262                       riesling witte wijn      1\n",
       "\n",
       "[263 rows x 2 columns]"
      ]
     },
     "execution_count": 140,
     "metadata": {},
     "output_type": "execute_result"
    }
   ],
   "source": [
    "a = df_onze.ingredient.value_counts().reset_index().rename(columns={\"index\": \"value\", 0: \"count\"})\n",
    "\n"
   ]
  },
  {
   "cell_type": "code",
   "execution_count": null,
   "id": "79f39c27-9318-4cbe-b772-34cbae6b6db8",
   "metadata": {},
   "outputs": [],
   "source": [
    "\n"
   ]
  },
  {
   "cell_type": "markdown",
   "id": "8643fe3a-34b5-416f-8a96-531831ba9a2f",
   "metadata": {},
   "source": [
    "### Overzicht van de uitgevoerde bewerkingen."
   ]
  },
  {
   "cell_type": "markdown",
   "id": "842d25b1-0bdd-4476-b6be-7d2984eb7ef6",
   "metadata": {},
   "source": [
    "### Reflectie op de kwaliteit van de schoongemaakte data\n",
    "\n",
    "ingrediënten een naam geven is subjectief"
   ]
  },
  {
   "cell_type": "markdown",
   "id": "55ca41ac-0698-4281-a780-75e4d87d5e12",
   "metadata": {},
   "source": [
    "### Een data bestand met de voorkeur voor gerechten van elk groepslid"
   ]
  },
  {
   "cell_type": "code",
   "execution_count": null,
   "id": "68db9ab8-9ea0-4b1b-9672-ba162e244a8d",
   "metadata": {},
   "outputs": [],
   "source": []
  }
 ],
 "metadata": {
  "kernelspec": {
   "display_name": "Python 3 (ipykernel)",
   "language": "python",
   "name": "python3"
  },
  "language_info": {
   "codemirror_mode": {
    "name": "ipython",
    "version": 3
   },
   "file_extension": ".py",
   "mimetype": "text/x-python",
   "name": "python",
   "nbconvert_exporter": "python",
   "pygments_lexer": "ipython3",
   "version": "3.10.12"
  }
 },
 "nbformat": 4,
 "nbformat_minor": 5
}
