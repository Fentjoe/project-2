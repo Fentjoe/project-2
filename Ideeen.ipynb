{
 "cells": [
  {
   "cell_type": "code",
   "execution_count": null,
   "id": "1943d65f-6d83-4733-ac84-4375d487db05",
   "metadata": {},
   "outputs": [],
   "source": [
    "Idee: set list maken van units"
   ]
  },
  {
   "cell_type": "code",
   "execution_count": null,
   "id": "6a6d69b0-2653-4b59-b3e2-8d8311cdaec0",
   "metadata": {},
   "outputs": [],
   "source": [
    "ingr per group slicen alleen waar 3 in staat van group"
   ]
  }
 ],
 "metadata": {
  "kernelspec": {
   "display_name": "Python 3 (ipykernel)",
   "language": "python",
   "name": "python3"
  },
  "language_info": {
   "codemirror_mode": {
    "name": "ipython",
    "version": 3
   },
   "file_extension": ".py",
   "mimetype": "text/x-python",
   "name": "python",
   "nbconvert_exporter": "python",
   "pygments_lexer": "ipython3",
   "version": "3.10.12"
  }
 },
 "nbformat": 4,
 "nbformat_minor": 5
}
