{
 "cells": [
  {
   "cell_type": "markdown",
   "id": "1f4c0b62-b8b7-43bb-9b83-907597cc3105",
   "metadata": {},
   "source": [
    "# Tussenproduct 1 : Data schoonmaak\n",
    "## De Haagse Hogeschool\n",
    "## Toegepaste Wiskunde\n",
    "\n",
    "\n",
    "Groep 3  \n",
    "Fenne van Agthoven, Phealana Fiamingo, Araksan Hassan, Kika van Vliet  \n",
    "Datum: 22-3-2024"
   ]
  },
  {
   "cell_type": "markdown",
   "id": "bdab3bb5-5bdb-49ca-ba94-414e2ffc4d80",
   "metadata": {},
   "source": [
    "### Functie voor het schoonmaken van de gegeven ingrediënten"
   ]
  },
  {
   "cell_type": "markdown",
   "id": "8643fe3a-34b5-416f-8a96-531831ba9a2f",
   "metadata": {},
   "source": [
    "### Overzicht van de uitgevoerde bewerkingen."
   ]
  },
  {
   "cell_type": "markdown",
   "id": "842d25b1-0bdd-4476-b6be-7d2984eb7ef6",
   "metadata": {},
   "source": [
    "### Reflectie op de kwaliteit van de schoongemaakte data"
   ]
  },
  {
   "cell_type": "markdown",
   "id": "55ca41ac-0698-4281-a780-75e4d87d5e12",
   "metadata": {},
   "source": [
    "### Een data bestand met de voorkeur voor gerechten van elk groepslid"
   ]
  },
  {
   "cell_type": "code",
   "execution_count": null,
   "id": "68db9ab8-9ea0-4b1b-9672-ba162e244a8d",
   "metadata": {},
   "outputs": [],
   "source": []
  }
 ],
 "metadata": {
  "kernelspec": {
   "display_name": "Python 3 (ipykernel)",
   "language": "python",
   "name": "python3"
  },
  "language_info": {
   "codemirror_mode": {
    "name": "ipython",
    "version": 3
   },
   "file_extension": ".py",
   "mimetype": "text/x-python",
   "name": "python",
   "nbconvert_exporter": "python",
   "pygments_lexer": "ipython3",
   "version": "3.10.12"
  }
 },
 "nbformat": 4,
 "nbformat_minor": 5
}
