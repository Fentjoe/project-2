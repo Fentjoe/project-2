{
 "cells": [
  {
   "cell_type": "code",
   "execution_count": 7,
   "id": "9028815e-21c9-476b-b287-bcf185409ba2",
   "metadata": {
    "tags": []
   },
   "outputs": [],
   "source": [
    "import pandas as pd\n",
    "ingr_per_group= pd.read_csv('tabellen/ingr_per_group(1).csv')\n",
    "data_ingr=pd.read_csv('tabellen/data_ingr.csv')\n",
    "ingr_group3 = ingr_per_group[(ingr_per_group['group'] == 3)]"
   ]
  },
  {
   "cell_type": "code",
   "execution_count": null,
   "id": "9eb630d4-4e05-4a05-b2cf-34eabaf89214",
   "metadata": {},
   "outputs": [],
   "source": []
  }
 ],
 "metadata": {
  "kernelspec": {
   "display_name": "Python 3 (ipykernel)",
   "language": "python",
   "name": "python3"
  },
  "language_info": {
   "codemirror_mode": {
    "name": "ipython",
    "version": 3
   },
   "file_extension": ".py",
   "mimetype": "text/x-python",
   "name": "python",
   "nbconvert_exporter": "python",
   "pygments_lexer": "ipython3",
   "version": "3.10.12"
  }
 },
 "nbformat": 4,
 "nbformat_minor": 5
}
