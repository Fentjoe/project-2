{
 "cells": [
  {
   "cell_type": "code",
   "execution_count": 4,
   "id": "217160be-b20a-4ef0-894f-fd5970d70a19",
   "metadata": {
    "tags": []
   },
   "outputs": [],
   "source": [
    "from pulp import LpMinimize, LpProblem, LpStatus, lpSum, LpVariable\n",
    "import pandas as pd"
   ]
  },
  {
   "cell_type": "code",
   "execution_count": 12,
   "id": "9fa582e1-a38e-4525-b335-b28b9d4272a3",
   "metadata": {
    "tags": []
   },
   "outputs": [
    {
     "data": {
      "text/html": [
       "<div>\n",
       "<style scoped>\n",
       "    .dataframe tbody tr th:only-of-type {\n",
       "        vertical-align: middle;\n",
       "    }\n",
       "\n",
       "    .dataframe tbody tr th {\n",
       "        vertical-align: top;\n",
       "    }\n",
       "\n",
       "    .dataframe thead th {\n",
       "        text-align: right;\n",
       "    }\n",
       "</style>\n",
       "<table border=\"1\" class=\"dataframe\">\n",
       "  <thead>\n",
       "    <tr style=\"text-align: right;\">\n",
       "      <th></th>\n",
       "      <th>Unnamed: 0.1</th>\n",
       "      <th>Unnamed: 0</th>\n",
       "      <th>recipe</th>\n",
       "      <th>tag</th>\n",
       "    </tr>\n",
       "  </thead>\n",
       "  <tbody>\n",
       "    <tr>\n",
       "      <th>0</th>\n",
       "      <td>0</td>\n",
       "      <td>0</td>\n",
       "      <td>Kruidnoten met choco-discodip</td>\n",
       "      <td>hollands</td>\n",
       "    </tr>\n",
       "    <tr>\n",
       "      <th>1</th>\n",
       "      <td>1</td>\n",
       "      <td>1</td>\n",
       "      <td>Kruidnoten met choco-discodip</td>\n",
       "      <td>gebak</td>\n",
       "    </tr>\n",
       "    <tr>\n",
       "      <th>2</th>\n",
       "      <td>2</td>\n",
       "      <td>2</td>\n",
       "      <td>Kruidnoten met choco-discodip</td>\n",
       "      <td>gebak</td>\n",
       "    </tr>\n",
       "    <tr>\n",
       "      <th>3</th>\n",
       "      <td>3</td>\n",
       "      <td>3</td>\n",
       "      <td>Kruidnoten met choco-discodip</td>\n",
       "      <td>sinterklaas</td>\n",
       "    </tr>\n",
       "    <tr>\n",
       "      <th>4</th>\n",
       "      <td>4</td>\n",
       "      <td>4</td>\n",
       "      <td>Kruidnoten met choco-discodip</td>\n",
       "      <td>sinterklaasavond</td>\n",
       "    </tr>\n",
       "    <tr>\n",
       "      <th>...</th>\n",
       "      <td>...</td>\n",
       "      <td>...</td>\n",
       "      <td>...</td>\n",
       "      <td>...</td>\n",
       "    </tr>\n",
       "    <tr>\n",
       "      <th>33435</th>\n",
       "      <td>33435</td>\n",
       "      <td>0</td>\n",
       "      <td>Broccoli-zalmquiches</td>\n",
       "      <td>vis</td>\n",
       "    </tr>\n",
       "    <tr>\n",
       "      <th>33436</th>\n",
       "      <td>33436</td>\n",
       "      <td>0</td>\n",
       "      <td>Provençaalse tonijnschotel</td>\n",
       "      <td>vis</td>\n",
       "    </tr>\n",
       "    <tr>\n",
       "      <th>33437</th>\n",
       "      <td>33437</td>\n",
       "      <td>0</td>\n",
       "      <td>Ratatouille met kabeljauwfilet</td>\n",
       "      <td>vis</td>\n",
       "    </tr>\n",
       "    <tr>\n",
       "      <th>33438</th>\n",
       "      <td>33438</td>\n",
       "      <td>0</td>\n",
       "      <td>Romige mosselen met dille</td>\n",
       "      <td>vis</td>\n",
       "    </tr>\n",
       "    <tr>\n",
       "      <th>33439</th>\n",
       "      <td>33439</td>\n",
       "      <td>0</td>\n",
       "      <td>Ceviche met sint-jakobsschelpen</td>\n",
       "      <td>vis</td>\n",
       "    </tr>\n",
       "  </tbody>\n",
       "</table>\n",
       "<p>33440 rows × 4 columns</p>\n",
       "</div>"
      ],
      "text/plain": [
       "       Unnamed: 0.1  Unnamed: 0                           recipe  \\\n",
       "0                 0           0    Kruidnoten met choco-discodip   \n",
       "1                 1           1    Kruidnoten met choco-discodip   \n",
       "2                 2           2    Kruidnoten met choco-discodip   \n",
       "3                 3           3    Kruidnoten met choco-discodip   \n",
       "4                 4           4    Kruidnoten met choco-discodip   \n",
       "...             ...         ...                              ...   \n",
       "33435         33435           0             Broccoli-zalmquiches   \n",
       "33436         33436           0       Provençaalse tonijnschotel   \n",
       "33437         33437           0   Ratatouille met kabeljauwfilet   \n",
       "33438         33438           0        Romige mosselen met dille   \n",
       "33439         33439           0  Ceviche met sint-jakobsschelpen   \n",
       "\n",
       "                    tag  \n",
       "0              hollands  \n",
       "1                 gebak  \n",
       "2                 gebak  \n",
       "3           sinterklaas  \n",
       "4      sinterklaasavond  \n",
       "...                 ...  \n",
       "33435               vis  \n",
       "33436               vis  \n",
       "33437               vis  \n",
       "33438               vis  \n",
       "33439               vis  \n",
       "\n",
       "[33440 rows x 4 columns]"
      ]
     },
     "execution_count": 12,
     "metadata": {},
     "output_type": "execute_result"
    }
   ],
   "source": [
    "vis_tag = pd.read_csv('data_tags_vis.csv')\n",
    "data_recipes = pd.read_csv('data_recipes.csv')\n",
    "vis_tag"
   ]
  },
  {
   "cell_type": "code",
   "execution_count": 13,
   "id": "48aed733-83d9-48ec-9729-d08f4e30e665",
   "metadata": {
    "tags": []
   },
   "outputs": [],
   "source": []
  },
  {
   "cell_type": "code",
   "execution_count": 10,
   "id": "df5ed117-481d-4e65-a70a-e2206459943c",
   "metadata": {
    "tags": []
   },
   "outputs": [],
   "source": [
    "M = 10000  # Groot genoeg waarde voor de M-restrictie"
   ]
  },
  {
   "cell_type": "code",
   "execution_count": 20,
   "id": "ca32137f-4a7e-4917-bdb9-1ebf4f71d572",
   "metadata": {
    "tags": []
   },
   "outputs": [
    {
     "data": {
      "text/html": [
       "<div>\n",
       "<style scoped>\n",
       "    .dataframe tbody tr th:only-of-type {\n",
       "        vertical-align: middle;\n",
       "    }\n",
       "\n",
       "    .dataframe tbody tr th {\n",
       "        vertical-align: top;\n",
       "    }\n",
       "\n",
       "    .dataframe thead th {\n",
       "        text-align: right;\n",
       "    }\n",
       "</style>\n",
       "<table border=\"1\" class=\"dataframe\">\n",
       "  <thead>\n",
       "    <tr style=\"text-align: right;\">\n",
       "      <th></th>\n",
       "      <th>Unnamed: 0.1</th>\n",
       "      <th>Unnamed: 0</th>\n",
       "      <th>recipe</th>\n",
       "      <th>tag</th>\n",
       "    </tr>\n",
       "  </thead>\n",
       "  <tbody>\n",
       "    <tr>\n",
       "      <th>55</th>\n",
       "      <td>55</td>\n",
       "      <td>71</td>\n",
       "      <td>Pierogi</td>\n",
       "      <td>vegetarisch</td>\n",
       "    </tr>\n",
       "    <tr>\n",
       "      <th>65</th>\n",
       "      <td>65</td>\n",
       "      <td>86</td>\n",
       "      <td>Pasta pesto met kipstuckjes en tomatensalade</td>\n",
       "      <td>vegetarisch</td>\n",
       "    </tr>\n",
       "    <tr>\n",
       "      <th>71</th>\n",
       "      <td>71</td>\n",
       "      <td>92</td>\n",
       "      <td>Hutspot met vegetarische rookworst en jus</td>\n",
       "      <td>vegetarisch</td>\n",
       "    </tr>\n",
       "    <tr>\n",
       "      <th>89</th>\n",
       "      <td>89</td>\n",
       "      <td>146</td>\n",
       "      <td>Groene-currysoep met groenten, noedels en taugé</td>\n",
       "      <td>vegetarisch</td>\n",
       "    </tr>\n",
       "    <tr>\n",
       "      <th>113</th>\n",
       "      <td>113</td>\n",
       "      <td>175</td>\n",
       "      <td>Eenpans-paddenstoelenstoof met deegballetjes</td>\n",
       "      <td>vegetarisch</td>\n",
       "    </tr>\n",
       "    <tr>\n",
       "      <th>...</th>\n",
       "      <td>...</td>\n",
       "      <td>...</td>\n",
       "      <td>...</td>\n",
       "      <td>...</td>\n",
       "    </tr>\n",
       "    <tr>\n",
       "      <th>32246</th>\n",
       "      <td>32246</td>\n",
       "      <td>45915</td>\n",
       "      <td>Aardappelen en paprika uit de oven</td>\n",
       "      <td>vegetarisch</td>\n",
       "    </tr>\n",
       "    <tr>\n",
       "      <th>32251</th>\n",
       "      <td>32251</td>\n",
       "      <td>45920</td>\n",
       "      <td>Aardappel en auberginefrites</td>\n",
       "      <td>vegetarisch</td>\n",
       "    </tr>\n",
       "    <tr>\n",
       "      <th>32254</th>\n",
       "      <td>32254</td>\n",
       "      <td>45929</td>\n",
       "      <td>Aardappel en knolselderij</td>\n",
       "      <td>vegetarisch</td>\n",
       "    </tr>\n",
       "    <tr>\n",
       "      <th>32266</th>\n",
       "      <td>32266</td>\n",
       "      <td>45953</td>\n",
       "      <td>Aardappel en zuurkool</td>\n",
       "      <td>zonder vlees/vis</td>\n",
       "    </tr>\n",
       "    <tr>\n",
       "      <th>32302</th>\n",
       "      <td>32302</td>\n",
       "      <td>46023</td>\n",
       "      <td>Honingwortel met abrikoos</td>\n",
       "      <td>vegetarisch</td>\n",
       "    </tr>\n",
       "  </tbody>\n",
       "</table>\n",
       "<p>1649 rows × 4 columns</p>\n",
       "</div>"
      ],
      "text/plain": [
       "       Unnamed: 0.1  Unnamed: 0  \\\n",
       "55               55          71   \n",
       "65               65          86   \n",
       "71               71          92   \n",
       "89               89         146   \n",
       "113             113         175   \n",
       "...             ...         ...   \n",
       "32246         32246       45915   \n",
       "32251         32251       45920   \n",
       "32254         32254       45929   \n",
       "32266         32266       45953   \n",
       "32302         32302       46023   \n",
       "\n",
       "                                                recipe               tag  \n",
       "55                                             Pierogi       vegetarisch  \n",
       "65        Pasta pesto met kipstuckjes en tomatensalade       vegetarisch  \n",
       "71           Hutspot met vegetarische rookworst en jus       vegetarisch  \n",
       "89     Groene-currysoep met groenten, noedels en taugé       vegetarisch  \n",
       "113       Eenpans-paddenstoelenstoof met deegballetjes       vegetarisch  \n",
       "...                                                ...               ...  \n",
       "32246               Aardappelen en paprika uit de oven       vegetarisch  \n",
       "32251                     Aardappel en auberginefrites       vegetarisch  \n",
       "32254                        Aardappel en knolselderij       vegetarisch  \n",
       "32266                            Aardappel en zuurkool  zonder vlees/vis  \n",
       "32302                        Honingwortel met abrikoos       vegetarisch  \n",
       "\n",
       "[1649 rows x 4 columns]"
      ]
     },
     "execution_count": 20,
     "metadata": {},
     "output_type": "execute_result"
    }
   ],
   "source": [
    "visje_tag = vis_tag[vis_tag['tag']=='vis']\n",
    "vega_tag = vis_tag[(vis_tag['tag'] == 'vegetarisch') | (vis_tag['tag'] == 'zonder vlees/vis')]\n",
    "vega_tag"
   ]
  },
  {
   "cell_type": "code",
   "execution_count": 18,
   "id": "b66de161-ed5d-47f3-a369-5ae2a7994102",
   "metadata": {
    "tags": []
   },
   "outputs": [
    {
     "ename": "TypeError",
     "evalue": "'LpVariable' object is not subscriptable",
     "output_type": "error",
     "traceback": [
      "\u001b[0;31m---------------------------------------------------------------------------\u001b[0m",
      "\u001b[0;31mTypeError\u001b[0m                                 Traceback (most recent call last)",
      "Cell \u001b[0;32mIn[18], line 11\u001b[0m\n\u001b[1;32m      6\u001b[0m z \u001b[38;5;241m=\u001b[39m LpVariable(\u001b[38;5;124m'\u001b[39m\u001b[38;5;124mz\u001b[39m\u001b[38;5;124m'\u001b[39m, cat \u001b[38;5;241m=\u001b[39m \u001b[38;5;124m'\u001b[39m\u001b[38;5;124mBinary\u001b[39m\u001b[38;5;124m'\u001b[39m)\n\u001b[1;32m      9\u001b[0m model \u001b[38;5;241m=\u001b[39m LpProblem(name\u001b[38;5;241m=\u001b[39m\u001b[38;5;124m\"\u001b[39m\u001b[38;5;124msmall-problem\u001b[39m\u001b[38;5;124m\"\u001b[39m, sense\u001b[38;5;241m=\u001b[39mLpMinimize)\n\u001b[0;32m---> 11\u001b[0m model \u001b[38;5;241m+\u001b[39m\u001b[38;5;241m=\u001b[39m (lpSum([x[i] \u001b[38;5;28;01mfor\u001b[39;00m i \u001b[38;5;129;01min\u001b[39;00m \u001b[38;5;28mrange\u001b[39m(\u001b[38;5;28mlen\u001b[39m(data_recipes))]) \u001b[38;5;241m>\u001b[39m\u001b[38;5;241m=\u001b[39m \u001b[38;5;241m600\u001b[39m\u001b[38;5;241m*\u001b[39m\u001b[38;5;241m7\u001b[39m, \u001b[38;5;124m\"\u001b[39m\u001b[38;5;124mblack_constraint\u001b[39m\u001b[38;5;124m\"\u001b[39m)\n\u001b[1;32m     12\u001b[0m model \u001b[38;5;241m+\u001b[39m\u001b[38;5;241m=\u001b[39m (lpSum([x[i] \u001b[38;5;28;01mfor\u001b[39;00m i \u001b[38;5;129;01min\u001b[39;00m \u001b[38;5;28mrange\u001b[39m(\u001b[38;5;28mlen\u001b[39m(data_recipes))]) \u001b[38;5;241m<\u001b[39m\u001b[38;5;241m=\u001b[39m \u001b[38;5;241m875\u001b[39m\u001b[38;5;241m*\u001b[39m\u001b[38;5;241m7\u001b[39m, \u001b[38;5;124m\"\u001b[39m\u001b[38;5;124mblue_constraint\u001b[39m\u001b[38;5;124m\"\u001b[39m)\n\u001b[1;32m     14\u001b[0m model \u001b[38;5;241m+\u001b[39m\u001b[38;5;241m=\u001b[39m (lpSum([y_vi[i] \u001b[38;5;28;01mfor\u001b[39;00m i \u001b[38;5;129;01min\u001b[39;00m \u001b[38;5;28mrange\u001b[39m(\u001b[38;5;28mlen\u001b[39m(vis_tag))]) \u001b[38;5;241m>\u001b[39m\u001b[38;5;241m=\u001b[39m \u001b[38;5;241m2\u001b[39m \u001b[38;5;241m+\u001b[39m M1 \u001b[38;5;241m*\u001b[39m z, \u001b[38;5;124m\"\u001b[39m\u001b[38;5;124myellow_constraint\u001b[39m\u001b[38;5;124m\"\u001b[39m)\n",
      "Cell \u001b[0;32mIn[18], line 11\u001b[0m, in \u001b[0;36m<listcomp>\u001b[0;34m(.0)\u001b[0m\n\u001b[1;32m      6\u001b[0m z \u001b[38;5;241m=\u001b[39m LpVariable(\u001b[38;5;124m'\u001b[39m\u001b[38;5;124mz\u001b[39m\u001b[38;5;124m'\u001b[39m, cat \u001b[38;5;241m=\u001b[39m \u001b[38;5;124m'\u001b[39m\u001b[38;5;124mBinary\u001b[39m\u001b[38;5;124m'\u001b[39m)\n\u001b[1;32m      9\u001b[0m model \u001b[38;5;241m=\u001b[39m LpProblem(name\u001b[38;5;241m=\u001b[39m\u001b[38;5;124m\"\u001b[39m\u001b[38;5;124msmall-problem\u001b[39m\u001b[38;5;124m\"\u001b[39m, sense\u001b[38;5;241m=\u001b[39mLpMinimize)\n\u001b[0;32m---> 11\u001b[0m model \u001b[38;5;241m+\u001b[39m\u001b[38;5;241m=\u001b[39m (lpSum([\u001b[43mx\u001b[49m\u001b[43m[\u001b[49m\u001b[43mi\u001b[49m\u001b[43m]\u001b[49m \u001b[38;5;28;01mfor\u001b[39;00m i \u001b[38;5;129;01min\u001b[39;00m \u001b[38;5;28mrange\u001b[39m(\u001b[38;5;28mlen\u001b[39m(data_recipes))]) \u001b[38;5;241m>\u001b[39m\u001b[38;5;241m=\u001b[39m \u001b[38;5;241m600\u001b[39m\u001b[38;5;241m*\u001b[39m\u001b[38;5;241m7\u001b[39m, \u001b[38;5;124m\"\u001b[39m\u001b[38;5;124mblack_constraint\u001b[39m\u001b[38;5;124m\"\u001b[39m)\n\u001b[1;32m     12\u001b[0m model \u001b[38;5;241m+\u001b[39m\u001b[38;5;241m=\u001b[39m (lpSum([x[i] \u001b[38;5;28;01mfor\u001b[39;00m i \u001b[38;5;129;01min\u001b[39;00m \u001b[38;5;28mrange\u001b[39m(\u001b[38;5;28mlen\u001b[39m(data_recipes))]) \u001b[38;5;241m<\u001b[39m\u001b[38;5;241m=\u001b[39m \u001b[38;5;241m875\u001b[39m\u001b[38;5;241m*\u001b[39m\u001b[38;5;241m7\u001b[39m, \u001b[38;5;124m\"\u001b[39m\u001b[38;5;124mblue_constraint\u001b[39m\u001b[38;5;124m\"\u001b[39m)\n\u001b[1;32m     14\u001b[0m model \u001b[38;5;241m+\u001b[39m\u001b[38;5;241m=\u001b[39m (lpSum([y_vi[i] \u001b[38;5;28;01mfor\u001b[39;00m i \u001b[38;5;129;01min\u001b[39;00m \u001b[38;5;28mrange\u001b[39m(\u001b[38;5;28mlen\u001b[39m(vis_tag))]) \u001b[38;5;241m>\u001b[39m\u001b[38;5;241m=\u001b[39m \u001b[38;5;241m2\u001b[39m \u001b[38;5;241m+\u001b[39m M1 \u001b[38;5;241m*\u001b[39m z, \u001b[38;5;124m\"\u001b[39m\u001b[38;5;124myellow_constraint\u001b[39m\u001b[38;5;124m\"\u001b[39m)\n",
      "\u001b[0;31mTypeError\u001b[0m: 'LpVariable' object is not subscriptable"
     ]
    }
   ],
   "source": [
    "x = [LpVariable(x, 600, 875, cat=\"Integer\") for x in data_recipes['calories']]\n",
    "y_vi = [LpVariable(y_vi, cat = 'Binary') for y_vi in visje_tag['recipe']]\n",
    "y_ve = [LpVariable(y_ve, cat = 'Binary') for y_ve in vega_tag['recipe']]\n",
    "f = LpVariable('f', cat = 'Binary')\n",
    "a = LpVariable('a', cat = 'Binary')\n",
    "z = LpVariable('z', cat = 'Binary')\n",
    "\n",
    "\n",
    "model = LpProblem(name=\"small-problem\", sense=LpMinimize)\n",
    "\n",
    "model += (lpSum([x[i] for i in range(len(data_recipes))]) >= 600*7, \"black_constraint\")\n",
    "model += (lpSum([x[i] for i in range(len(data_recipes))]) <= 875*7, \"blue_constraint\")\n",
    "\n",
    "model += (lpSum([y_vi[i] for i in range(len(vis_tag))]) >= 2 + M1 * z, \"yellow_constraint\")\n",
    "model += (lpSum([y_ve[i] for i in range(len(vis_tag))]) >= 1 + M1 * (1 - z), \"green_constraint\")\n",
    "\n",
    "model += (lpSum([f[i] for i in range(len(favorite))]) == 4, \"pink_constraint\") \n",
    "model += (lpSum([a[i] for i in range(len(aanbevolen))]) == 3, \"orange_constraint\")\n",
    "\n"
   ]
  },
  {
   "cell_type": "code",
   "execution_count": 40,
   "id": "bab5e7b0-91de-4010-85ed-8648de13c612",
   "metadata": {
    "tags": []
   },
   "outputs": [
    {
     "name": "stdout",
     "output_type": "stream",
     "text": [
      "Welcome to the CBC MILP Solver \n",
      "Version: 2.10.10 \n",
      "Build Date: Apr 19 2023 \n",
      "\n",
      "command line - cbc /tmp/2904f5bb5e714ff6951d9c2ef987ce99-pulp.mps timeMode elapsed branch printingOptions all solution /tmp/2904f5bb5e714ff6951d9c2ef987ce99-pulp.sol (default strategy 1)\n",
      "At line 2 NAME          MODEL\n",
      "At line 3 ROWS\n",
      "At line 11 COLUMNS\n",
      "At line 135 RHS\n",
      "At line 142 BOUNDS\n",
      "At line 179 ENDATA\n",
      "Problem MODEL has 6 rows, 36 columns and 44 elements\n",
      "Coin0008I MODEL read with 0 errors\n",
      "Option for timeMode changed from cpu to elapsed\n",
      "Problem is infeasible - 0.00 seconds\n",
      "Option for printingOptions changed from normal to all\n",
      "Total time (CPU seconds):       0.00   (Wallclock seconds):       0.00\n",
      "\n"
     ]
    }
   ],
   "source": [
    "status = model.solve()"
   ]
  },
  {
   "cell_type": "code",
   "execution_count": 41,
   "id": "4a8e8382-60ea-4f3b-9909-03f462b91fb0",
   "metadata": {
    "tags": []
   },
   "outputs": [
    {
     "name": "stdout",
     "output_type": "stream",
     "text": [
      "status: -1, Infeasible\n"
     ]
    }
   ],
   "source": [
    "print(f\"status: {model.status}, {LpStatus[model.status]}\")"
   ]
  },
  {
   "cell_type": "code",
   "execution_count": null,
   "id": "79aa797c-c0d6-4572-bc77-162e5a3fba8a",
   "metadata": {},
   "outputs": [],
   "source": []
  }
 ],
 "metadata": {
  "kernelspec": {
   "display_name": "Python 3 (ipykernel)",
   "language": "python",
   "name": "python3"
  },
  "language_info": {
   "codemirror_mode": {
    "name": "ipython",
    "version": 3
   },
   "file_extension": ".py",
   "mimetype": "text/x-python",
   "name": "python",
   "nbconvert_exporter": "python",
   "pygments_lexer": "ipython3",
   "version": "3.10.12"
  }
 },
 "nbformat": 4,
 "nbformat_minor": 5
}
