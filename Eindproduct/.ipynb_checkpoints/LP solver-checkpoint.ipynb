{
 "cells": [
  {
   "cell_type": "code",
   "execution_count": 36,
   "id": "217160be-b20a-4ef0-894f-fd5970d70a19",
   "metadata": {
    "tags": []
   },
   "outputs": [],
   "source": [
    "from pulp import LpMinimize, LpProblem, LpStatus, lpSum, LpVariable"
   ]
  },
  {
   "cell_type": "code",
   "execution_count": 37,
   "id": "48aed733-83d9-48ec-9729-d08f4e30e665",
   "metadata": {
    "tags": []
   },
   "outputs": [],
   "source": [
    "model = LpProblem(name=\"small-problem\", sense=LpMinimize)"
   ]
  },
  {
   "cell_type": "code",
   "execution_count": 38,
   "id": "7ef7c1fd-51a3-4db5-aa17-b1634c6ff138",
   "metadata": {
    "tags": []
   },
   "outputs": [],
   "source": [
    "# model += (x1+x2+x3+x4+x5+x6+x7 >= 600 * 7, \"red_constraint\")\n",
    "# model += (x1+x2+x3+x4+x5+x6+x7 <= 875 * 7, \"blue_constraint\")\n",
    "# model += (y1vi+y2vi+y3vi+y4vi+y5vi+y6vi+y7vi >= 2 + M1 * z, \"yellow_constraint\")\n",
    "# model += (y1ve+y2ve+y3ve+y4ve+y5ve+y6ve+y7ve >= 1+ M1 * (1-z), \"green_constraint\")\n",
    "\n",
    "M1 = 100000000 \n",
    "\n",
    "x = LpVariable.dicts(\"x\",range(1, 8), lowBound=0, cat='Integer')\n",
    "y_vi = LpVariable.dicts(\"y_vi\", range(1, 8), lowBound=0, cat='Binary')\n",
    "y_ve = LpVariable.dicts(\"y_ve\", range(1, 8), lowBound=0, cat='Binary') \n",
    "f = LpVariable.dicts(\"f\",range(1, 8), lowBound=0, cat='Binary') \n",
    "a= LpVariable.dicts(\"a\",range(1, 8), lowBound=0, cat='Binary')\n",
    "z = LpVariable(\"z\", cat='Binary') \n",
    "\n",
    "model += (lpSum([x[i] for i in range(1, 8)]) >= 600 * 7, \"red_constraint\")\n",
    "model += (lpSum([x[i] for i in range(1, 8)]) <= 875 * 7, \"blue_constraint\")\n",
    "model += (lpSum([y_vi[i] for i in range(1, 8)]) >= 2 + M1 * z, \"yellow_constraint\")\n",
    "model += (lpSum([y_ve[i] for i in range(1, 8)]) >= 1 + M1 * (1 - z), \"green_constraint\") \n",
    "\n",
    "model += (lpSum([f[i] for i in range(1, 8)]) == 4, \"pink_constraint\") \n",
    "model += (lpSum([a[i] for i in range(1, 8)]) == 3, \"orange_constraint\")\n"
   ]
  },
  {
   "cell_type": "code",
   "execution_count": 39,
   "id": "474d945c-bf8a-4587-921a-0f1e868f332a",
   "metadata": {
    "tags": []
   },
   "outputs": [],
   "source": [
    "model += lpSum([x[i] for i in range(1, 8)])"
   ]
  },
  {
   "cell_type": "code",
   "execution_count": 40,
   "id": "bab5e7b0-91de-4010-85ed-8648de13c612",
   "metadata": {
    "tags": []
   },
   "outputs": [
    {
     "name": "stdout",
     "output_type": "stream",
     "text": [
      "Welcome to the CBC MILP Solver \n",
      "Version: 2.10.10 \n",
      "Build Date: Apr 19 2023 \n",
      "\n",
      "command line - cbc /tmp/2904f5bb5e714ff6951d9c2ef987ce99-pulp.mps timeMode elapsed branch printingOptions all solution /tmp/2904f5bb5e714ff6951d9c2ef987ce99-pulp.sol (default strategy 1)\n",
      "At line 2 NAME          MODEL\n",
      "At line 3 ROWS\n",
      "At line 11 COLUMNS\n",
      "At line 135 RHS\n",
      "At line 142 BOUNDS\n",
      "At line 179 ENDATA\n",
      "Problem MODEL has 6 rows, 36 columns and 44 elements\n",
      "Coin0008I MODEL read with 0 errors\n",
      "Option for timeMode changed from cpu to elapsed\n",
      "Problem is infeasible - 0.00 seconds\n",
      "Option for printingOptions changed from normal to all\n",
      "Total time (CPU seconds):       0.00   (Wallclock seconds):       0.00\n",
      "\n"
     ]
    }
   ],
   "source": [
    "status = model.solve()"
   ]
  },
  {
   "cell_type": "code",
   "execution_count": 41,
   "id": "4a8e8382-60ea-4f3b-9909-03f462b91fb0",
   "metadata": {
    "tags": []
   },
   "outputs": [
    {
     "name": "stdout",
     "output_type": "stream",
     "text": [
      "status: -1, Infeasible\n"
     ]
    }
   ],
   "source": [
    "print(f\"status: {model.status}, {LpStatus[model.status]}\")"
   ]
  },
  {
   "cell_type": "code",
   "execution_count": null,
   "id": "79aa797c-c0d6-4572-bc77-162e5a3fba8a",
   "metadata": {},
   "outputs": [],
   "source": []
  }
 ],
 "metadata": {
  "kernelspec": {
   "display_name": "Python 3 (ipykernel)",
   "language": "python",
   "name": "python3"
  },
  "language_info": {
   "codemirror_mode": {
    "name": "ipython",
    "version": 3
   },
   "file_extension": ".py",
   "mimetype": "text/x-python",
   "name": "python",
   "nbconvert_exporter": "python",
   "pygments_lexer": "ipython3",
   "version": "3.10.12"
  }
 },
 "nbformat": 4,
 "nbformat_minor": 5
}
