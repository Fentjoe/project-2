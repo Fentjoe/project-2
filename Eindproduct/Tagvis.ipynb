{
 "cells": [
  {
   "cell_type": "code",
   "execution_count": 24,
   "id": "74b1f3f9-5b0e-4096-bb19-950eba15ac33",
   "metadata": {
    "tags": []
   },
   "outputs": [],
   "source": [
    "import pandas as pd"
   ]
  },
  {
   "cell_type": "code",
   "execution_count": 25,
   "id": "acc50bd8-73a7-4a6e-86df-58f631383d38",
   "metadata": {
    "tags": []
   },
   "outputs": [
    {
     "data": {
      "text/html": [
       "<div>\n",
       "<style scoped>\n",
       "    .dataframe tbody tr th:only-of-type {\n",
       "        vertical-align: middle;\n",
       "    }\n",
       "\n",
       "    .dataframe tbody tr th {\n",
       "        vertical-align: top;\n",
       "    }\n",
       "\n",
       "    .dataframe thead th {\n",
       "        text-align: right;\n",
       "    }\n",
       "</style>\n",
       "<table border=\"1\" class=\"dataframe\">\n",
       "  <thead>\n",
       "    <tr style=\"text-align: right;\">\n",
       "      <th></th>\n",
       "      <th>Unnamed: 0</th>\n",
       "      <th>recipe</th>\n",
       "      <th>tag</th>\n",
       "    </tr>\n",
       "  </thead>\n",
       "  <tbody>\n",
       "    <tr>\n",
       "      <th>0</th>\n",
       "      <td>0</td>\n",
       "      <td>Kruidnoten met choco-discodip</td>\n",
       "      <td>hollands</td>\n",
       "    </tr>\n",
       "    <tr>\n",
       "      <th>1</th>\n",
       "      <td>1</td>\n",
       "      <td>Kruidnoten met choco-discodip</td>\n",
       "      <td>gebak</td>\n",
       "    </tr>\n",
       "    <tr>\n",
       "      <th>2</th>\n",
       "      <td>2</td>\n",
       "      <td>Kruidnoten met choco-discodip</td>\n",
       "      <td>gebak</td>\n",
       "    </tr>\n",
       "    <tr>\n",
       "      <th>3</th>\n",
       "      <td>3</td>\n",
       "      <td>Kruidnoten met choco-discodip</td>\n",
       "      <td>sinterklaas</td>\n",
       "    </tr>\n",
       "    <tr>\n",
       "      <th>4</th>\n",
       "      <td>4</td>\n",
       "      <td>Kruidnoten met choco-discodip</td>\n",
       "      <td>sinterklaasavond</td>\n",
       "    </tr>\n",
       "    <tr>\n",
       "      <th>...</th>\n",
       "      <td>...</td>\n",
       "      <td>...</td>\n",
       "      <td>...</td>\n",
       "    </tr>\n",
       "    <tr>\n",
       "      <th>32309</th>\n",
       "      <td>46030</td>\n",
       "      <td>Ceviche met sint-jakobsschelpen</td>\n",
       "      <td>voorgerecht</td>\n",
       "    </tr>\n",
       "    <tr>\n",
       "      <th>32310</th>\n",
       "      <td>46036</td>\n",
       "      <td>Biefstuk met rodewijnsaus en ham</td>\n",
       "      <td>snel</td>\n",
       "    </tr>\n",
       "    <tr>\n",
       "      <th>32311</th>\n",
       "      <td>46037</td>\n",
       "      <td>Biefstuk met rodewijnsaus en ham</td>\n",
       "      <td>mediterraan</td>\n",
       "    </tr>\n",
       "    <tr>\n",
       "      <th>32312</th>\n",
       "      <td>46038</td>\n",
       "      <td>Biefstuk met rodewijnsaus en ham</td>\n",
       "      <td>hoofdgerecht</td>\n",
       "    </tr>\n",
       "    <tr>\n",
       "      <th>32313</th>\n",
       "      <td>46039</td>\n",
       "      <td>Biefstuk met rodewijnsaus en ham</td>\n",
       "      <td>bakken</td>\n",
       "    </tr>\n",
       "  </tbody>\n",
       "</table>\n",
       "<p>32314 rows × 3 columns</p>\n",
       "</div>"
      ],
      "text/plain": [
       "       Unnamed: 0                            recipe               tag\n",
       "0               0     Kruidnoten met choco-discodip          hollands\n",
       "1               1     Kruidnoten met choco-discodip             gebak\n",
       "2               2     Kruidnoten met choco-discodip             gebak\n",
       "3               3     Kruidnoten met choco-discodip       sinterklaas\n",
       "4               4     Kruidnoten met choco-discodip  sinterklaasavond\n",
       "...           ...                               ...               ...\n",
       "32309       46030   Ceviche met sint-jakobsschelpen       voorgerecht\n",
       "32310       46036  Biefstuk met rodewijnsaus en ham              snel\n",
       "32311       46037  Biefstuk met rodewijnsaus en ham       mediterraan\n",
       "32312       46038  Biefstuk met rodewijnsaus en ham      hoofdgerecht\n",
       "32313       46039  Biefstuk met rodewijnsaus en ham            bakken\n",
       "\n",
       "[32314 rows x 3 columns]"
      ]
     },
     "execution_count": 25,
     "metadata": {},
     "output_type": "execute_result"
    }
   ],
   "source": [
    "data_tags = pd.read_csv('data_tags.csv')\n",
    "data_recipes = pd.read_csv('data_recipes.csv')\n",
    "data_tags"
   ]
  },
  {
   "cell_type": "code",
   "execution_count": 32,
   "id": "9146da71-a0c4-4bd9-b551-2eceec1b4d43",
   "metadata": {
    "tags": []
   },
   "outputs": [],
   "source": [
    "vis = ['zalm', 'vis', 'tonijn', 'schelp', 'haring', 'garnaal', 'garnalen',\n",
    "       'tonnato', 'kibbeling', 'lekkerbek', 'kabeljauw', 'makreel', 'sardine', 'fish', 'zeevruchten', 'gamba', \n",
    "      'calamaris', 'mossel', 'coquilles', 'kreeft', 'krab', 'oester', 'lobster']"
   ]
  },
  {
   "cell_type": "code",
   "execution_count": 33,
   "id": "b30ab894-ff06-4daf-9db8-d0010576447f",
   "metadata": {
    "tags": []
   },
   "outputs": [],
   "source": [
    "for i in data_recipes['title']:\n",
    "    for y in vis:\n",
    "        if y in i:\n",
    "            new_row = {'Unnamed: 0': '0', 'recipe': i, 'tag': 'vis'}\n",
    "            data_tags.loc[len(data_tags)] = new_row\n",
    "            \n",
    "            "
   ]
  },
  {
   "cell_type": "code",
   "execution_count": 34,
   "id": "92ab0c1c-6af1-4d1c-ac23-ad88c64032c7",
   "metadata": {
    "tags": []
   },
   "outputs": [],
   "source": [
    "data_tags_vis = data_tags"
   ]
  },
  {
   "cell_type": "code",
   "execution_count": 35,
   "id": "daef456d-5f33-4e65-a1a6-4a04835bbd39",
   "metadata": {
    "tags": []
   },
   "outputs": [],
   "source": [
    "data_tags_vis\n",
    "data_tags_vis.to_csv('data_tags_vis.csv')"
   ]
  },
  {
   "cell_type": "code",
   "execution_count": null,
   "id": "e88c71e8-b455-4844-830c-e953027de612",
   "metadata": {},
   "outputs": [],
   "source": []
  },
  {
   "cell_type": "code",
   "execution_count": null,
   "id": "84f7abfa-4585-4bad-a3dd-05136e00ce98",
   "metadata": {},
   "outputs": [],
   "source": []
  },
  {
   "cell_type": "code",
   "execution_count": null,
   "id": "cc28ea26-7e04-4acf-873c-d407d9e730cd",
   "metadata": {},
   "outputs": [],
   "source": []
  },
  {
   "cell_type": "code",
   "execution_count": null,
   "id": "f6a00eb3-57d7-43eb-b3e7-1ec68d0abd0b",
   "metadata": {},
   "outputs": [],
   "source": []
  }
 ],
 "metadata": {
  "kernelspec": {
   "display_name": "Python 3 (ipykernel)",
   "language": "python",
   "name": "python3"
  },
  "language_info": {
   "codemirror_mode": {
    "name": "ipython",
    "version": 3
   },
   "file_extension": ".py",
   "mimetype": "text/x-python",
   "name": "python",
   "nbconvert_exporter": "python",
   "pygments_lexer": "ipython3",
   "version": "3.10.12"
  }
 },
 "nbformat": 4,
 "nbformat_minor": 5
}
