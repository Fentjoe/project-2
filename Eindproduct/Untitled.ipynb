{
 "cells": [
  {
   "cell_type": "code",
   "execution_count": 10,
   "id": "9338d3ab-ccb1-4d40-b8ac-aee3d894c7db",
   "metadata": {
    "tags": []
   },
   "outputs": [],
   "source": [
    "import pandas as pd\n",
    "import numpy as np\n",
    "from numpy.linalg import norm\n",
    "from sklearn.metrics.pairwise import cosine_similarity\n",
    "from sklearn.feature_extraction.text import CountVectorizer\n",
    "recipes = pd.read_csv('Recepten_kiezen_gescheiden.csv')\n",
    "data_recipes = pd.read_csv('data_recipes.csv')\n",
    "ingr_schoon=pd.read_csv('tabellen/data_ingr_clean.csv') \n",
    "fav_recepten = recipes[:80].copy()\n",
    "fav_cal = fav_recepten[fav_recepten['calories']>= 600]\n",
    "rec_cal = data_recipes[(data_recipes['calories']>= 550) & (data_recipes['calories']<= 925)].copy()\n",
    "rec_cal.to_csv('rec_cal.csv', index=False)"
   ]
  },
  {
   "cell_type": "code",
   "execution_count": null,
   "id": "e7258afa-8387-4571-90e6-cfca586f87d4",
   "metadata": {},
   "outputs": [],
   "source": [
    "class Recepten: \n",
    "    \n",
    "    def __init__(self, data_ingr, schoongemaakt=False): \n",
    "        # Initialisatie van de klasse met het pad naar de data en of de data schoon is \n",
    "        self.data_ingr = data_ingr\n",
    "        self.schoongemaakt = schoongemaakt\n",
    "        \n",
    "    def laad_ingr(self):\n",
    "        # Methode die de ingrediëntentabel inlaadt\n",
    "        self.tabel = pd.read_csv(self.data_ingr)\n",
    "        \n",
    "    def aanbeveling(self, fav_recepten):\n",
    "        # Alle favoriete ingredienten worden gezocht, dmv set worden de duplicates weggehaald\n",
    "        self.fav_ingr = list(set(self.tabel['ingredient'].loc[self.tabel['recipe'].isin(fav_recepten)]))\n",
    "        # Initialisatie van de CountVectorizer die text data convergeert naar getallen\n",
    "        count_vectorizer = CountVectorizer()\n",
    "        # Convergeert fav_ingr naar een matrix van tokens\n",
    "        self.fav_matrix = count_vectorizer.fit_transform(self.fav_ingr)\n",
    "        # Initialiseer een lege lijst om alle recepten op te slaan\n",
    "        titel_lijst = []\n",
    "        # Itereer door alle recepten, maar filter de favoriete eruit en voorkom ook dubbele receptnamen\n",
    "        [titel_lijst.append(recept) for recept in self.tabel['recipe'] if recept not in fav_recepten and recept not in titel_lijst]\n",
    "        # Initialiseer een lege lijst om de gelijkenisscore in te bewaren tussen de fav recepten en alle andere\n",
    "        gelijkenis = []\n",
    "        # Bereken de cosinusgelijkenis tussen de fav recepten en alle ander\n",
    "        for recept in titel_lijst:\n",
    "            # Kies de ingredientelijst van het huidige recept\n",
    "            recept_lijst = list(self.tabel['ingredient'].loc[self.tabel['recipe']==recept])\n",
    "            # Convergeer de ingredientenlijst naar een matrix van token obv de fav_matrix\n",
    "            rec_matrix = count_vectorizer.transform(recept_lijst)\n",
    "            # Bereken de cosinusgelijkenis tussen het huidige recept en de favoriete ingredienten, \n",
    "            # dmv van een vector bestaand uit enen, evengroot als het aantal ingredienten in het huidige recept\n",
    "            cosinus = cosine_similarity(np.ones(np.size(rec_matrix.toarray())).reshape(1,-1), rec_matrix.reshape(1,-1))\n",
    "            # Voeg de gelijkenis score en het recept toe aan de lijst\n",
    "            gelijkenis.append([cosinus[0][0],recept])\n",
    "        \n",
    "        # Sorteer de lijst aan gelijkenissen op aflopende volgorde\n",
    "        gelijkenis.sort(reverse=True)\n",
    "        # Selecteer de top 10 aanbevolen recepten op basis van de cosinusgelijkenis\n",
    "        self.aanbeveling = [titel[1] for titel in gelijkenis][:10]\n",
    "        \n",
    "        return self.aanbeveling\n",
    "        \n",
    "recepten_klasse = Recepten('tabellen/data_ingr_clean.csv',schoongemaakt=True)\n",
    "recepten_klasse.laad_ingr()\n",
    "\n",
    "rec = recipes_wel[recipes_wel['calories']>= 600]\n",
    "fav_recepten = rec['title'].tolist()\n",
    "aanbevolen = recepten_klasse.aanbeveling(fav_recepten)\n",
    "aanbevolen"
   ]
  }
 ],
 "metadata": {
  "kernelspec": {
   "display_name": "Python 3 (ipykernel)",
   "language": "python",
   "name": "python3"
  },
  "language_info": {
   "codemirror_mode": {
    "name": "ipython",
    "version": 3
   },
   "file_extension": ".py",
   "mimetype": "text/x-python",
   "name": "python",
   "nbconvert_exporter": "python",
   "pygments_lexer": "ipython3",
   "version": "3.10.12"
  }
 },
 "nbformat": 4,
 "nbformat_minor": 5
}
