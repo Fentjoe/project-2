{
 "cells": [
  {
   "cell_type": "code",
   "execution_count": 1,
   "id": "baa64d2e-45fe-4b9b-97bb-1632d50f4da7",
   "metadata": {
    "tags": []
   },
   "outputs": [],
   "source": [
    "import pandas as pd \n",
    "import numpy as np\n",
    "from numpy.linalg import norm\n",
    "from sklearn.metrics.pairwise import cosine_similarity\n",
    "from sklearn.feature_extraction.text import CountVectorizer\n",
    "ingr_ns=pd.read_csv('tabellen/data_ingr.csv')\n",
    "ingr_schoon=pd.read_csv('tabellen/data_ingr_clean.csv')\n",
    "data_recepten = pd.read_csv('tabellen/data_recipes.csv')\n",
    "recipes = pd.read_csv('tabellen/Recepten_kiezen_gescheiden.csv') # Onze lijst van recepten die we wel en niet lekker vinden\n",
    "recipes_wel = recipes[:80] # DataFrame met alle recpeten die wij lekker vinden\n",
    "recipes_niet = recipes[80:] # DataFrame met alle recepten die wij niet lekker vinden"
   ]
  },
  {
   "cell_type": "code",
   "execution_count": 2,
   "id": "2f6c83ef-3db2-4c5e-bd3b-ba0042fe6e2a",
   "metadata": {
    "tags": []
   },
   "outputs": [],
   "source": [
    "# import csv\n",
    "# with open('tabellen/Recepten_kiezen_f.csv', newline='') as csvfile:\n",
    "#     csvlezer = csv.reader(csvfile, delimiter=',', quotechar='\"')\n",
    "#     for x in csvlezer:\n",
    "#         x = recipes\n",
    "# recipes[117:123]\n",
    "\n",
    "# recipes"
   ]
  },
  {
   "cell_type": "code",
   "execution_count": 3,
   "id": "344bdafe-d063-48b0-bd60-226ee67a202b",
   "metadata": {
    "tags": []
   },
   "outputs": [],
   "source": [
    "onze_ns = ingr_ns[ingr_ns['recipe'].isin(recipes['title'])] # DataFrame van de ongeschoonde data met alle ingredienten van onze gekozen gerechten\n",
    "onze_schoon = ingr_schoon[ingr_schoon['recipe'].isin(recipes['title'])] # DataFrame van de opgeschoonde data met alle ingredienten van onze gekozen gerechten\n"
   ]
  },
  {
   "cell_type": "code",
   "execution_count": 4,
   "id": "a6416a63-2943-4eb9-8c37-e8546ada6bfc",
   "metadata": {
    "tags": []
   },
   "outputs": [
    {
     "name": "stdout",
     "output_type": "stream",
     "text": [
      "0.5773502691896258\n",
      "0.8164965809277259\n",
      "0.5773502691896258\n"
     ]
    }
   ],
   "source": [
    "cosine1 = np.dot([1,1,1],[1,0,0])/(norm([1,1,1])*norm([1,0,0]))\n",
    "#cosine1 = np.dot([1,1,1,1,1,1],[1,1,0,1,0,0])/(norm([1,1,1,1,1,1])*norm([1,1,0,1,0,0]))\n",
    "cosine2 = np.dot([1,1,1],[1,1,0])/(norm([1,1,1])*norm([1,1,0]))\n",
    "#cosine2 = np.dot([1,1,1,1,1,1],[0,0,1,0,0,0])/(norm([1,1,1,1,1,1])*norm([0,0,1,0,0,0]))\n",
    "cosine3 = np.dot([1,1,1,1,1,1],[0,0,1,1,0,0])/(norm([1,1,1,1,1,1])*norm([0,0,1,1,0,0]))\n",
    "print(cosine1)\n",
    "print(cosine2)\n",
    "print(cosine3)"
   ]
  },
  {
   "cell_type": "code",
   "execution_count": 5,
   "id": "4b38114c-b617-4b6c-a805-003a4a015b9c",
   "metadata": {
    "tags": []
   },
   "outputs": [
    {
     "name": "stdout",
     "output_type": "stream",
     "text": [
      "fav_matrix:\n",
      " [[0 1 0]\n",
      " [1 0 0]\n",
      " [0 0 1]]\n",
      "rec1_matrix:\n",
      " [[0 0 1]\n",
      " [0 0 0]]\n",
      "rec2_matrix:\n",
      " [[0 0 1]\n",
      " [1 0 0]]\n",
      "cosine_similarity met rec1:  0.4082482904638631\n",
      "cosine_similarity met rec2:  0.5773502691896258\n",
      "np.ones:\n",
      " [[1. 1. 1. 1. 1. 1.]]\n",
      "reshape(1,-1)\n",
      " [[0 0 1 0 0 0]]\n"
     ]
    }
   ],
   "source": [
    "fav = ['melk','ei','water']\n",
    "rec1 = ['water', 'appel']\n",
    "rec2 = ['water','ei']\n",
    "count_vectorizer = CountVectorizer()\n",
    "fav_matrix = count_vectorizer.fit_transform(fav)\n",
    "rec1_matrix = count_vectorizer.transform(rec1)\n",
    "rec2_matrix = count_vectorizer.transform(rec2)\n",
    "print('fav_matrix:\\n',fav_matrix.toarray())\n",
    "print('rec1_matrix:\\n',rec1_matrix.toarray())\n",
    "print('rec2_matrix:\\n',rec2_matrix.toarray())\n",
    "s = cosine_similarity(np.ones(np.size(rec1_matrix.toarray())).reshape(1,-1), rec1_matrix.reshape(1,-1))\n",
    "t = cosine_similarity(np.ones(np.size(rec2_matrix.toarray())).reshape(1,-1), rec2_matrix.reshape(1,-1))\n",
    "print('cosine_similarity met rec1: ', s[0][0])\n",
    "print('cosine_similarity met rec2: ', t[0][0])\n",
    "\n",
    "print('np.ones:\\n',np.ones(np.size(rec1_matrix.toarray())).reshape(1,-1))\n",
    "print('reshape(1,-1)\\n', rec1_matrix.reshape(1,-1).toarray())"
   ]
  },
  {
   "cell_type": "code",
   "execution_count": 6,
   "id": "238a5b2d-25f8-4584-957a-83336375a834",
   "metadata": {
    "tags": []
   },
   "outputs": [
    {
     "data": {
      "text/plain": [
       "[[0.10336227882434038, 'Snelle Thaise viskoekjes met chilisaus'],\n",
       " [0.08006407690254358, \"Volkorenpincho's\"],\n",
       " [0.08006407690254358, \"Marokkaanse' lamsbout\"],\n",
       " [0.08006407690254358, 'Kerstballetjes met gesmolten kaas'],\n",
       " [0.08006407690254358, \"Burrito'-schotel met knapperige tortillapuntjes\"],\n",
       " [0.08006407690254358, 'Banaan met chocolade en rum'],\n",
       " [0.08006407690254358, 'Asperges koken'],\n",
       " [0.08006407690254357, 'Yoghurtmarinade met baharat'],\n",
       " [0.07734924681537618,\n",
       "  'Traybake met kikkererwten, kipgehaktballetjes en garam masala'],\n",
       " [0.07665551758398331,\n",
       "  'Mexicaanse maaltijdsoep van zoete aardappel met kidneybonen '],\n",
       " [0.07665551758398331, 'Carpaccio-wraps'],\n",
       " [0.07548513560963974, 'Farro met paprika-tomatensaus'],\n",
       " [0.07412493166611012,\n",
       "  'Snelle noedelroerbak met groene currypasta en een eitje'],\n",
       " [0.07412493166611012, 'Aardappel-tonijnsalade met asperges'],\n",
       " [0.07308816827558576, 'Minigroenten met dragondressing'],\n",
       " [0.07308816827558574, 'Roodfruit-avocadosmoothie'],\n",
       " [0.0720364851256305,\n",
       "  'Zoete-aardappelstamppot met prei, geitenkaas en walnoten'],\n",
       " [0.0720364851256305, 'Macaronischotel met broccoli'],\n",
       " [0.0720364851256305, 'Italiaanse couscous '],\n",
       " [0.0716114874039433, 'Tortelloni met verse kruiden en Parmezaan']]"
      ]
     },
     "execution_count": 6,
     "metadata": {},
     "output_type": "execute_result"
    }
   ],
   "source": [
    "ingr_schoon['recipe']\n",
    "ingr_schoon['ingredient'].loc[ingr_schoon['recipe']=='Kruidnoten in marsepein']\n",
    "# a=[ingr_schoon['ingredient'].loc[ingr_schoon['recipe']==recept] for recept in recipes_wel['title']]\n",
    "fav_recepten = recipes_wel['title'].tolist()\n",
    "#a=np.array(list(set(ingr_schoon['ingredient'].loc[ingr_schoon['recipe'].isin(fav_recepten)])))\n",
    "\n",
    "fav=list(set(ingr_schoon['ingredient'].loc[ingr_schoon['recipe'].isin(fav_recepten)]))\n",
    "count_vectorizer = CountVectorizer()\n",
    "fav_matrix = count_vectorizer.fit_transform(fav)\n",
    "# for recept in ingr_schoon['recipe']:\n",
    "#     if recept not in fav_recepten:\n",
    "#         print(recept)\n",
    "titel_lijst = []\n",
    "[titel_lijst.append(recept) for recept in ingr_schoon['recipe'] if recept not in fav_recepten and recept not in titel_lijst]\n",
    "#titel_lijst = [i for n, i in enumerate(ingr_schoon['recipe']) if i not in fav_recepten and i not in ingr_schoon['recipe'].iloc[0:n]]\n",
    "#titel_lijst\n",
    "gelijkenis = []\n",
    "for recept in titel_lijst:\n",
    "    recept_lijst = list(ingr_schoon['ingredient'].loc[ingr_schoon['recipe']==recept])\n",
    "    rec_matrix = count_vectorizer.transform(recept_lijst)\n",
    "    cosinus = cosine_similarity(np.ones(np.size(rec_matrix.toarray())).reshape(1,-1), rec_matrix.reshape(1,-1))\n",
    "    gelijkenis.append([cosinus[0][0],recept])\n",
    "    \n",
    "gelijkenis.sort(reverse=True)\n",
    "gelijkenis[:20]\n"
   ]
  },
  {
   "cell_type": "code",
   "execution_count": 7,
   "id": "63eb79ab-b8f4-40c7-b46c-ac1872734c86",
   "metadata": {
    "tags": []
   },
   "outputs": [
    {
     "data": {
      "text/plain": [
       "['Snelle Thaise viskoekjes met chilisaus',\n",
       " \"Volkorenpincho's\",\n",
       " \"Marokkaanse' lamsbout\",\n",
       " 'Kerstballetjes met gesmolten kaas',\n",
       " \"Burrito'-schotel met knapperige tortillapuntjes\",\n",
       " 'Banaan met chocolade en rum',\n",
       " 'Asperges koken',\n",
       " 'Yoghurtmarinade met baharat',\n",
       " 'Traybake met kikkererwten, kipgehaktballetjes en garam masala',\n",
       " 'Mexicaanse maaltijdsoep van zoete aardappel met kidneybonen ',\n",
       " 'Carpaccio-wraps',\n",
       " 'Farro met paprika-tomatensaus',\n",
       " 'Snelle noedelroerbak met groene currypasta en een eitje',\n",
       " 'Aardappel-tonijnsalade met asperges',\n",
       " 'Minigroenten met dragondressing',\n",
       " 'Roodfruit-avocadosmoothie',\n",
       " 'Zoete-aardappelstamppot met prei, geitenkaas en walnoten',\n",
       " 'Macaronischotel met broccoli',\n",
       " 'Italiaanse couscous ',\n",
       " 'Tortelloni met verse kruiden en Parmezaan']"
      ]
     },
     "execution_count": 7,
     "metadata": {},
     "output_type": "execute_result"
    }
   ],
   "source": [
    "aanbeveling = [titel[1] for titel in gelijkenis][:20]\n",
    "aanbeveling"
   ]
  },
  {
   "cell_type": "code",
   "execution_count": 12,
   "id": "ef716d3d-b043-4dcf-a403-8dac75cc06c2",
   "metadata": {
    "tags": []
   },
   "outputs": [
    {
     "data": {
      "text/plain": [
       "['Snelle Thaise viskoekjes met chilisaus',\n",
       " 'Yoghurtmarinade met baharat',\n",
       " \"Volkorenpincho's\",\n",
       " 'Kerstballetjes met gesmolten kaas',\n",
       " \"Burrito'-schotel met knapperige tortillapuntjes\",\n",
       " 'Banaan met chocolade en rum',\n",
       " 'Asperges koken',\n",
       " 'Mexicaanse maaltijdsoep van zoete aardappel met kidneybonen ',\n",
       " 'Snelle noedelroerbak met groene currypasta en een eitje',\n",
       " 'Traybake met kikkererwten, kipgehaktballetjes en garam masala',\n",
       " 'Homemade tomatensaus',\n",
       " 'Minigroenten met dragondressing',\n",
       " 'Zoete aardappel uit de airfryer',\n",
       " 'Kruidendip',\n",
       " 'Kaasvlinders',\n",
       " 'Frisse yoghurtsaus met gegrilde paprika',\n",
       " 'Rigatoni met frisse tomatensaus',\n",
       " 'Gepofte aardappel met tonijn',\n",
       " 'Aardappel-tonijnsalade met asperges',\n",
       " 'Cottage pie met doperwten-linzen-maismix']"
      ]
     },
     "execution_count": 12,
     "metadata": {},
     "output_type": "execute_result"
    }
   ],
   "source": [
    "class Recepten: \n",
    "    \n",
    "    def __init__(self, data_ingr, schoongemaakt=False): \n",
    "        # Initialisatie van de klasse met het pad naar de data en of de data schoon is \n",
    "        self.data_ingr = data_ingr\n",
    "        self.schoongemaakt = schoongemaakt\n",
    "        self.fav_ingr = None\n",
    "        self.titel_lijst = None\n",
    "        \n",
    "    def laad_ingr(self):\n",
    "        # Methode die de ingrediëntentabel inlaadt\n",
    "        self.tabel = pd.read_csv(self.data_ingr)\n",
    "        \n",
    "    def aanbeveling(self, fav_recepten):\n",
    "        self.fav_ingr = list(set(self.tabel['ingredient'].loc[self.tabel['recipe'].isin(fav_recepten)])) # door set worden de duplicates weggehaald\n",
    "        #self.fav_ingr = np.array({self.tabel['ingredient'][i] for i in range(0, len(self.tabel)) if self.tabel['recipe'][i] in fav_recepten})\n",
    "        count_vectorizer = CountVectorizer()\n",
    "        self.fav_matrix = count_vectorizer.fit_transform(self.fav_ingr)\n",
    "        titel_lijst = []\n",
    "        [titel_lijst.append(recept) for recept in self.tabel['recipe'] if recept not in fav_recepten and recept not in titel_lijst]\n",
    "        gelijkenis = []\n",
    "        for recept in titel_lijst:\n",
    "            recept_lijst = list(self.tabel['ingredient'].loc[self.tabel['recipe']==recept])\n",
    "            rec_matrix = count_vectorizer.transform(recept_lijst)\n",
    "            cosinus = cosine_similarity(np.ones(np.size(rec_matrix.toarray())).reshape(1,-1), rec_matrix.reshape(1,-1))\n",
    "            gelijkenis.append([cosinus[0][0],recept])\n",
    "            \n",
    "        gelijkenis.sort(reverse=True)\n",
    "        self.aanbeveling = [titel[1] for titel in gelijkenis][:20]\n",
    "        \n",
    "        return self.aanbeveling\n",
    "        \n",
    "recepten_klasse = Recepten('tabellen/data_ingr_clean.csv',schoongemaakt=True)\n",
    "recepten_klasse.laad_ingr()\n",
    "\n",
    "rec = recipes_wel[:40]\n",
    "fav_recepten = rec['title'].tolist()\n",
    "aanbevolen = recepten_klasse.aanbeveling(fav_recepten)\n",
    "aanbevolen"
   ]
  },
  {
   "cell_type": "code",
   "execution_count": null,
   "id": "1f6bd0bb-3666-4688-a7ed-c56d756939e8",
   "metadata": {
    "tags": []
   },
   "outputs": [],
   "source": [
    "ingr_schoon.loc[ingr_schoon['recipe'] == 'Snelle Thaise viskoekjes met chilisaus ']"
   ]
  },
  {
   "cell_type": "code",
   "execution_count": null,
   "id": "1ba54a11-1804-4a38-953f-2ccfce3fdbcd",
   "metadata": {
    "tags": []
   },
   "outputs": [],
   "source": [
    "fav_ingr = list(set(ingr_schoon['ingredient'].loc[ingr_schoon['recipe'].isin(fav_recepten)])) \n",
    "'diepvries rauwe gepelde roze garnalen' in fav_ingr"
   ]
  },
  {
   "cell_type": "code",
   "execution_count": null,
   "id": "ad97795a-cd94-483b-aa9e-7018b8e92249",
   "metadata": {
    "tags": []
   },
   "outputs": [],
   "source": [
    "# recept_schoon = Recepten(ingr_schoon)\n",
    "\n",
    "# print(recept_schoon.data_frame)"
   ]
  },
  {
   "cell_type": "code",
   "execution_count": null,
   "id": "1b7c0e47-4a74-4919-ab20-e4c41d1c1b0d",
   "metadata": {
    "tags": []
   },
   "outputs": [],
   "source": [
    "# recept_ns = Recepten(ingr_ns)\n",
    "\n",
    "# print(recept_ns.data_frame)"
   ]
  },
  {
   "cell_type": "code",
   "execution_count": null,
   "id": "f2aa38d1-1ae7-4ff1-a927-e324ccd984b3",
   "metadata": {
    "tags": []
   },
   "outputs": [],
   "source": [
    "recipes_schoon = recipes.dropna(subset=['title'])\n",
    "recipes_schoon"
   ]
  },
  {
   "cell_type": "code",
   "execution_count": null,
   "id": "208b64cd-92d8-43e2-893f-c15bfd64e70f",
   "metadata": {
    "tags": []
   },
   "outputs": [],
   "source": [
    "a= np.array([recipes_schoon['title']]) \n",
    "a "
   ]
  },
  {
   "cell_type": "code",
   "execution_count": null,
   "id": "626af361-3ed3-49ce-8d59-1566ed32793d",
   "metadata": {
    "tags": []
   },
   "outputs": [],
   "source": [
    "set_ingr= { ingr_schoon['ingredient'][i] for i in range(0, len(ingr_schoon)) if ingr_schoon['recipe'][i] in a}\n",
    "set_ingr "
   ]
  },
  {
   "cell_type": "code",
   "execution_count": null,
   "id": "f860a33f-05f3-450d-a320-ad50944b2676",
   "metadata": {},
   "outputs": [],
   "source": []
  },
  {
   "cell_type": "code",
   "execution_count": null,
   "id": "43f70a67-c919-43bf-adf7-80c0cee9246e",
   "metadata": {},
   "outputs": [],
   "source": []
  },
  {
   "cell_type": "code",
   "execution_count": null,
   "id": "490398b6-1a1f-4b1e-9205-d8f59d3483ad",
   "metadata": {},
   "outputs": [],
   "source": []
  },
  {
   "cell_type": "code",
   "execution_count": null,
   "id": "000b7cc1-e2b4-4a45-adfb-9d7a33f3860b",
   "metadata": {},
   "outputs": [],
   "source": []
  },
  {
   "cell_type": "code",
   "execution_count": null,
   "id": "925734b9-0108-444c-8b1d-24e821dc39d5",
   "metadata": {},
   "outputs": [],
   "source": []
  },
  {
   "cell_type": "code",
   "execution_count": null,
   "id": "8e1f760d-761b-497a-b8fb-a1dadae12568",
   "metadata": {},
   "outputs": [],
   "source": []
  }
 ],
 "metadata": {
  "kernelspec": {
   "display_name": "Python 3 (ipykernel)",
   "language": "python",
   "name": "python3"
  },
  "language_info": {
   "codemirror_mode": {
    "name": "ipython",
    "version": 3
   },
   "file_extension": ".py",
   "mimetype": "text/x-python",
   "name": "python",
   "nbconvert_exporter": "python",
   "pygments_lexer": "ipython3",
   "version": "3.10.12"
  }
 },
 "nbformat": 4,
 "nbformat_minor": 5
}
