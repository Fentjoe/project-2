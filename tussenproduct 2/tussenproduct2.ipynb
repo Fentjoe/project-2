{
 "cells": [
  {
   "cell_type": "markdown",
   "id": "48f3fc99-d05d-455f-bfc0-5fbca2054f7e",
   "metadata": {
    "tags": []
   },
   "source": [
    "# Tussenproduct 2 : statistische analyses op de receptendata\n",
    "## De Haagse Hogeschool\n",
    "## Toegepaste Wiskunde\n",
    "\n",
    "\n",
    "Groep 3  \n",
    "Fenne van Agthoven, Phealana Fiamingo, Araksan Hassan, Kika van Vliet  \n",
    "Datum: 3 mei 2024"
   ]
  },
  {
   "cell_type": "markdown",
   "id": "c7862554-49a1-4ac3-beda-4ecdd2851d87",
   "metadata": {},
   "source": [
    "### Recepten class\n",
    "    - Een method die de tabel met de ingrediënten inlaadt en die als property bewaard. Je moet zowel de originele als de schoongemaakte data in kunnen laden.\n",
    "    - Een property die aangeeft of de ingeladen data schoongemaakt is.\n",
    "    - Een method die recepten aanbeveelt op basis van een lijstje favoriete recepten. Voeg hiervoor alle ingrediënten in het lijstje met favoriete recepten samen in een vector, en bereken de cosinusgelijkenis tussen deze vector en de ingrediëntenvectoren van elk ander recept. Raadt de recepten aan waarvan de ingrediënten de grootste overeenkomst hebben met de ingrediënten van de favoriete recepten. Deze functie gebruiken we later om het weekmenu samen te stellen.\n"
   ]
  },
  {
   "cell_type": "markdown",
   "id": "438b8cad-0588-4714-b461-794008f8730c",
   "metadata": {
    "tags": []
   },
   "source": [
    "### anbevelingsfunctie\n",
    "Gebruik de aanbevelingsfunctie om per groepslid tien recepten uit de schoongemaakte dataset aan te raden op basis van jullie favoriete recepten. Bepaal per groepslid hoeveel aanbevelingen correct zijn en gebruik dit om de Precision@10 metriek voor het aanbevelingsalgoritme te berekenen. Zijn jullie tevreden met de resultaten?"
   ]
  },
  {
   "cell_type": "markdown",
   "id": "5c6f30be-43d4-44a6-89a1-d95f1613e2e2",
   "metadata": {},
   "source": [
    "### evaluatie aanbevelingen\n",
    "Herhaal deze methode om aanbevelingen te evalueren, maar nu gebaseerd op de originele dataset (vóór het schoonmaken). Hoe verhouden de resultaten zich tegenover elkaar? Was het schoonmaken van de data nuttig?"
   ]
  },
  {
   "cell_type": "markdown",
   "id": "02371cc0-49b3-48fc-9eaa-ea4873437cce",
   "metadata": {},
   "source": [
    "### dataverkenning\n",
    "in deelopdracht 1 zijn de data schoongemaakt. Evengoed kunnen er nog fouten in de data zitten: een ingrediënt dat in grammen moet staan staat in kilogrammen bijvoorbeeld. Voordat je verder kunt met de analyse zul je vertrouwen in de data moeten hebben. Zeker in de variabelen die je verder gaat gebruiken (denk aan de extra eis). Bedenk dat de recepten niet allemaal voor evenveel personen zijn en dat de nutriënten wel per persoon zijn.\n",
    "\n",
    "    Overtuig je ervan dat er geen fouten meer in de data zitten. Dit kan o.a. door gebruik te maken van visualisaties.\n",
    "    Beschrijf of je fouten (of uitbijters) hebt gevonden en geef aan hoe je dat hebt opgelost (gecorrigeerd of buiten beschouwing gelaten of iets anders)\n"
   ]
  },
  {
   "cell_type": "markdown",
   "id": "14d45aec-bd74-45ff-99f6-bfa30db5fdf4",
   "metadata": {},
   "source": [
    "### Hypothesetoets\n",
    "formuleer een vermoeden en bijbehorende hypothesen waarin de extra eis verwerkt is en toets het vermoeden aan de hand van de dataset. Bijvoorbeeld: over bepaalde keukens bestaan vooroordelen. Zo zou de Franse keuken veel gerechten met knoflook bevatten. Als jullie extra eis met knoflook te maken heeft zou je dus kunnen toetsen of de Franse keuken inderdaad vaker knoflook bevat dan gemiddeld.\n",
    "\n",
    "    Denk na over een bepaalde groep recepten (een keuken, of gebruik de tags) en formuleer hier een vermoeden over.\n",
    "    Zorg er daarbij voor dat je dat vermoeden op basis van de gegevens over die recepten kunt toetsen. Denk daarbij vooral aan de nutriënten of ingrediënten (in relatie met jullie extra eis).\n",
    "    Formuleer dit vermoeden in de vorm van een hypothese en toets deze hypothese.\n"
   ]
  },
  {
   "cell_type": "markdown",
   "id": "22dc6162-b7bb-488b-bfc1-7bcc02aefa03",
   "metadata": {
    "tags": []
   },
   "source": [
    "### Regressie-analyse\n",
    "bij deelopdracht 1 hebben jullie gezamenlijk de data schoongemaakt. Daarbij zijn ingrediënten met (praktisch) dezelfde naam onder één naam gebracht en zijn alle ingrediënten omgezet naar grammen. Dat laatste is van belang omdat we nu een analyse willen gaan doen met die ingrediënten.\n",
    "\n",
    "We willen onderzoeken welke ingrediënten in het recept het meeste bijdragen aan een nutriënt. Ingrediënt suiker zal bijvoorbeeld veel bijdragen aan de nutriënt koolhydraten, omdat dat een koolhydraat is.\n",
    "\n",
    "    Kies één van de nutriënten. Daarbij is het weer handig om rekening te houden met jullie extra eis.\n",
    "    Kies een groep gerechten waarin vaak dezelfde ingrediënten gebruikt worden. Zo zal in gebak vaak bloem en suiker gebruikt worden. Zorg dat je op die manier minstens 100 gerechten hebt geselecteerd en zorg dat daarin ten minste drie ingrediënten vaak voorkomen. Je kunt bij de selectie van je gerechten gebruik maken van de tags. Ook hier is het weer handig om je extra eis in gedachten te houden: kijk vooral naar ingrediënten en/of soorten gerechten waar die extra eis mogelijk een rol speelt.\n",
    "    Als het naar jullie mening voor de extra eis mogelijk/wenselijk is om bepaalde ingrediënten samen te voegen (bijvoorbeeld alle groenten bij elkaar, of alle zuivel) kun je ook een categorie of nieuw ingrediënt toevoegen wat de optelling (per recept) van die ingrediënten is.\n",
    "    Zorg, als je dat bij de dataverkenning nog niet had gedaan, dat de ingrediënten en de nutriënten voor dezelfde personen gelden: óf je zet alle ingrediënten om naar 1 persoon, óf je zet alle nutriënten om naar het hele recept (voor het aantal gegeven personen).  \n",
    "    Stel nu een lineair regressiemodel op waarin je als afhankelijke variabele het nutriënt neemt, en als onafhankelijke variabele de (tenminste drie) ingrediënten. Schat met behulp van kleinste kwadraten de coëfficiënten van dit model.\n",
    "    Wat kun je concluderen?\n"
   ]
  },
  {
   "cell_type": "markdown",
   "id": "3a4d91ae-4ccc-4dc3-9753-142bca936d16",
   "metadata": {},
   "source": [
    "### verder in het verslag\n",
    "\n",
    "    Klasse structuur die overerft van de DataFrame klasse en met de bovenstaande onderdelen.\n",
    "    Evaluatie van het aanbevelingsalgoritme met de Precision@10 metriek.\n",
    "    De datavekenning met de conclusie.\n",
    "    De hypothesetoets met de conclusie.\n",
    "    De regressie-analyse met de conclusie.\n"
   ]
  },
  {
   "cell_type": "markdown",
   "id": "ec1591b3-104a-4f56-bc0b-9c1c6a5fbcc3",
   "metadata": {},
   "source": [
    "### Reflectie\n",
    "\n",
    "Dat we geen rekening hebben gehouden met de hoeveelheden van de ingredienten bij de aanbeveling"
   ]
  },
  {
   "cell_type": "markdown",
   "id": "8567b4ce-46f6-4c9e-a8b9-377655d3c5c1",
   "metadata": {},
   "source": [
    "### Bibliografie"
   ]
  },
  {
   "cell_type": "markdown",
   "id": "0f1274c6-d228-4224-8120-c4f8e9e7eb9f",
   "metadata": {},
   "source": []
  }
 ],
 "metadata": {
  "kernelspec": {
   "display_name": "Python 3 (ipykernel)",
   "language": "python",
   "name": "python3"
  },
  "language_info": {
   "codemirror_mode": {
    "name": "ipython",
    "version": 3
   },
   "file_extension": ".py",
   "mimetype": "text/x-python",
   "name": "python",
   "nbconvert_exporter": "python",
   "pygments_lexer": "ipython3",
   "version": "3.10.12"
  }
 },
 "nbformat": 4,
 "nbformat_minor": 5
}
