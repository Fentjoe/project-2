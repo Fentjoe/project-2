{
 "cells": [
  {
   "cell_type": "markdown",
   "id": "48f3fc99-d05d-455f-bfc0-5fbca2054f7e",
   "metadata": {
    "tags": []
   },
   "source": [
    "# Tussenproduct 2 : statistische analyses op de receptendata\n",
    "## De Haagse Hogeschool\n",
    "## Toegepaste Wiskunde\n",
    "\n",
    "\n",
    "Groep 3  \n",
    "Fenne van Agthoven, Phealana Fiamingo, Araksan Hassan, Kika van Vliet  \n",
    "Datum: 3 mei 2024"
   ]
  },
  {
   "cell_type": "markdown",
   "id": "c7862554-49a1-4ac3-beda-4ecdd2851d87",
   "metadata": {},
   "source": [
    "## Klasse structuur die de recept data bevat en de bovengenoemde functies\n",
    "    - Een method die de tabel met de ingrediënten inlaadt en die als property bewaard. Je moet zowel de originele als de schoongemaakte data in kunnen laden.\n",
    "    - Een property die aangeeft of de ingeladen data schoongemaakt is.\n",
    "    - Een method die recepten aanbeveelt op basis van een lijstje favoriete recepten. Voeg hiervoor alle ingrediënten in het lijstje met favoriete recepten samen in een vector, en bereken de cosinusgelijkenis tussen deze vector en de ingrediëntenvectoren van elk ander recept. Raadt de recepten aan waarvan de ingrediënten de grootste overeenkomst hebben met de ingrediënten van de favoriete recepten. Deze functie gebruiken we later om het weekmenu samen te stellen.\n"
   ]
  },
  {
   "cell_type": "code",
   "execution_count": null,
   "id": "69527156-fc9c-428c-a20b-7fdd33e29bb6",
   "metadata": {},
   "outputs": [],
   "source": [
    "import pandas as pd \n",
    "import numpy as np\n",
    "from numpy.linalg import norm\n",
    "from sklearn.metrics.pairwise import cosine_similarity\n",
    "from sklearn.feature_extraction.text import CountVectorizer\n",
    "ingr_ns=pd.read_csv('tabellen/data_ingr.csv')\n",
    "ingr_schoon=pd.read_csv('tabellen/data_ingr_clean.csv') \n",
    "recipes = pd.read_csv('tabellen/Recepten_kiezen_gescheiden.csv') # Onze lijst van recepten die we wel en niet lekker vinden\n",
    "recipes_wel = recipes[:80] # DataFrame met alle recpeten die wij lekker vinden\n",
    "recipes_niet = recipes[80:] # DataFrame met alle recepten die wij niet lekker vinden"
   ]
  },
  {
   "cell_type": "code",
   "execution_count": null,
   "id": "11561b23-4d5e-4015-99ea-efaa36083211",
   "metadata": {},
   "outputs": [],
   "source": [
    "class Recepten: \n",
    "    \n",
    "    def __init__(self, data_ingr, schoongemaakt=False): \n",
    "        # Initialisatie van de klasse met het pad naar de data en of de data schoon is \n",
    "        self.data_ingr = data_ingr\n",
    "        self.schoongemaakt = schoongemaakt\n",
    "        \n",
    "    def laad_ingr(self):\n",
    "        # Methode die de ingrediëntentabel inlaadt\n",
    "        self.tabel = pd.read_csv(self.data_ingr)\n",
    "        \n",
    "    def aanbeveling(self, fav_recepten):\n",
    "        # Alle favoriete ingredienten worden gezocht, dmv set worden de duplicates weggehaald\n",
    "        self.fav_ingr = list(set(self.tabel['ingredient'].loc[self.tabel['recipe'].isin(fav_recepten)]))\n",
    "        # Initialisatie van de CountVectorizer die text data convergeert naar getallen\n",
    "        count_vectorizer = CountVectorizer()\n",
    "        # Convergeert fav_ingr naar een matrix van tokens\n",
    "        self.fav_matrix = count_vectorizer.fit_transform(self.fav_ingr)\n",
    "        # Initialiseer een lege lijst om alle recepten op te slaan\n",
    "        titel_lijst = []\n",
    "        # Itereer door alle recepten, maar filter de favoriete eruit en voorkom ook dubbele receptnamen\n",
    "        [titel_lijst.append(recept) for recept in self.tabel['recipe'] if recept not in fav_recepten and recept not in titel_lijst]\n",
    "        # Initialiseer een lege lijst om de gelijkenisscore in te bewaren tussen de fav recepten en alle andere\n",
    "        gelijkenis = []\n",
    "        # Bereken de cosinusgelijkenis tussen de fav recepten en alle ander\n",
    "        for recept in titel_lijst:\n",
    "            # Kies de ingredientelijst van het huidige recept\n",
    "            recept_lijst = list(self.tabel['ingredient'].loc[self.tabel['recipe']==recept])\n",
    "            # Convergeer de ingredientenlijst naar een matrix van token obv de fav_matrix\n",
    "            rec_matrix = count_vectorizer.transform(recept_lijst)\n",
    "            # Bereken de cosinusgelijkenis tussen het huidige recept en de favoriete ingredienten, \n",
    "            # dmv van een vector bestaand uit enen, evengroot als het aantal ingredienten in het huidige recept\n",
    "            cosinus = cosine_similarity(np.ones(np.size(rec_matrix.toarray())).reshape(1,-1), rec_matrix.reshape(1,-1))\n",
    "            # Voeg de gelijkenis score en het recept toe aan de lijst\n",
    "            gelijkenis.append([cosinus[0][0],recept])\n",
    "        \n",
    "        # Sorteer de lijst aan gelijkenissen op aflopende volgorde\n",
    "        gelijkenis.sort(reverse=True)\n",
    "        # Selecteer de top 10 aanbevolen recepten op basis van de cosinusgelijkenis\n",
    "        self.aanbeveling = [titel[1] for titel in gelijkenis][:10]\n",
    "        \n",
    "        return self.aanbeveling\n",
    "        \n",
    "recepten_klasse = Recepten('tabellen/data_ingr_clean.csv',schoongemaakt=True)\n",
    "recepten_klasse.laad_ingr()"
   ]
  },
  {
   "cell_type": "markdown",
   "id": "438b8cad-0588-4714-b461-794008f8730c",
   "metadata": {
    "tags": []
   },
   "source": [
    "## Evaluatie van het aanbevelingsalgoritme met de Precision@10 metriek.\n",
    "We hebben de aanbevelingsfunctie gebruikt om per groepslid 10 recepten aan te raden op basis van onze favoriete recepten.\n",
    "Om te evalueren of de aanbevelingsfunctie goed werkt hebben we de Precision@10 metriek berekend.\n",
    "We hebben dit eerst gedaan met de schoongemaakte dataset en vervolgens ook met de orginele dataset.\n",
    "\n",
    "\n",
    "Gebruik de aanbevelingsfunctie om per groepslid tien recepten uit de schoongemaakte dataset aan te raden op basis van jullie favoriete recepten. Bepaal per groepslid hoeveel aanbevelingen correct zijn en gebruik dit om de Precision@10 metriek voor het aanbevelingsalgoritme te berekenen. Zijn jullie tevreden met de resultaten?"
   ]
  },
  {
   "cell_type": "markdown",
   "id": "289b090d-720f-4172-8194-91bada4c91cc",
   "metadata": {},
   "source": [
    "### De Precision@10 metriek met de schoongemaakte dataset"
   ]
  },
  {
   "cell_type": "markdown",
   "id": "f881828d-5f4e-4c8e-b2f0-dc346fb2ea72",
   "metadata": {},
   "source": [
    "**Kika**  \n",
    "Uit de 10 aanbevolen recepten voor Kika, zou zij zelf 8 recepten maken.  \n",
    "De Precision@10 is dan: 8/10 = 0.8"
   ]
  },
  {
   "cell_type": "code",
   "execution_count": null,
   "id": "da76fef0-7acf-406d-98ef-63592eb9efc0",
   "metadata": {},
   "outputs": [],
   "source": [
    "recepten_kika = recipes_wel[:20]\n",
    "recepten_klasse_k = Recepten('tabellen/data_ingr_clean.csv',schoongemaakt=True)\n",
    "recepten_klasse_k.laad_ingr()\n",
    "fav_recepten_k = recepten_kika['title'].tolist()\n",
    "aanbevolen_k = recepten_klasse_k.aanbeveling(fav_recepten_k)\n",
    "print('De volgende 10 recepten worden aanbevolen voor Kika: ', aanbevolen_k)"
   ]
  },
  {
   "cell_type": "markdown",
   "id": "c2cb01b7-bd08-4814-800a-0571b0d93103",
   "metadata": {},
   "source": [
    "**Araksan**  \n",
    "Uit de 10 aanbevolen recepten voor Araksan, zou zij zelf 8 recepten maken.  \n",
    "De Precision@10 is dan: 8/10 = 0.8"
   ]
  },
  {
   "cell_type": "code",
   "execution_count": null,
   "id": "07142cf5-7a7f-4195-83fa-8cdcf9827183",
   "metadata": {},
   "outputs": [],
   "source": [
    "recepten_araksan = recipes_wel[20:40]\n",
    "recepten_klasse_a = Recepten('tabellen/data_ingr_clean.csv',schoongemaakt=True)\n",
    "recepten_klasse_a.laad_ingr()\n",
    "fav_recepten_a = recepten_araksan['title'].tolist()\n",
    "aanbevolen_a = recepten_klasse_a.aanbeveling(fav_recepten_a)\n",
    "print('De volgende 10 recepten worden aanbevolen voor Araksan: ', aanbevolen_a)"
   ]
  },
  {
   "cell_type": "markdown",
   "id": "42da912f-e59e-4868-a0d2-c7163ad55cfd",
   "metadata": {},
   "source": [
    "**Fenne**  \n",
    "Uit de 10 aanbevolen recepten voor Fenne, zou zij zelf 7 recepten maken.  \n",
    "De Precision@10 is dan: 7/10 = 0.7"
   ]
  },
  {
   "cell_type": "code",
   "execution_count": null,
   "id": "2fd04d60-81db-4915-87bd-b1d090722abb",
   "metadata": {},
   "outputs": [],
   "source": [
    "recepten_fenne = recipes_wel[40:60]\n",
    "recepten_klasse_f = Recepten('tabellen/data_ingr_clean.csv',schoongemaakt=True)\n",
    "recepten_klasse_f.laad_ingr()\n",
    "fav_recepten_f = recepten_fenne['title'].tolist()\n",
    "aanbevolen_f = recepten_klasse_f.aanbeveling(fav_recepten_f)\n",
    "print('De volgende 10 recepten worden aanbevolen voor Fenne: ', aanbevolen_f)"
   ]
  },
  {
   "cell_type": "markdown",
   "id": "460f66d5-11ff-4d33-b98e-ca6a96f9465e",
   "metadata": {},
   "source": [
    "**Phealana**  \n",
    "Uit de 10 aanbevolen recepten voor Phealana, zou zij zelf 8 recepten maken.  \n",
    "De Precision@10 is dan: 8/10 = 0.8"
   ]
  },
  {
   "cell_type": "code",
   "execution_count": null,
   "id": "cea80cb8-85da-4610-8444-a1f70333077e",
   "metadata": {},
   "outputs": [],
   "source": [
    "recepten_phea = recipes_wel[60:80]\n",
    "recepten_klasse_p = Recepten('tabellen/data_ingr_clean.csv',schoongemaakt=True)\n",
    "recepten_klasse_p.laad_ingr()\n",
    "fav_recepten_p = recepten_phea['title'].tolist()\n",
    "aanbevolen_p = recepten_klasse_p.aanbeveling(fav_recepten_p)\n",
    "print('De volgende 10 recepten worden aanbevolen voor Phea: ', aanbevolen_p)"
   ]
  },
  {
   "cell_type": "markdown",
   "id": "4a51316d-5c73-4446-b8d0-51f39aa9f4bb",
   "metadata": {},
   "source": [
    "**Uitkomst:**  \n",
    "De gemiddelde Precision@10 voor de schoongemaakte dataset is ongeveer 0.8.\n",
    "Wij zijn tevreden met deze uitkomst, hiermee kunnen we stellen dat onze aanbevelingsfunctie goed werkt."
   ]
  },
  {
   "cell_type": "markdown",
   "id": "a7607d85-5d9e-48b9-9157-b61acddfbf75",
   "metadata": {},
   "source": [
    "### De Precision@10 metriek met de orginele dataset"
   ]
  },
  {
   "cell_type": "markdown",
   "id": "b979d8ca-4665-4cb1-b916-6015db181245",
   "metadata": {},
   "source": [
    "**Kika**  \n",
    "Uit de 10 aanbevolen recepten voor Kika, zou zij zelf 7 recepten maken.  \n",
    "De Precision@10 is dan: 7/10 = 0.7"
   ]
  },
  {
   "cell_type": "code",
   "execution_count": null,
   "id": "58655359-198a-425e-9a59-dd0259ed6fde",
   "metadata": {},
   "outputs": [],
   "source": [
    "recepten_klasse_k = Recepten('tabellen/data_ingr.csv',schoongemaakt=False)\n",
    "recepten_klasse_k.laad_ingr()\n",
    "fav_recepten_k = recepten_kika['title'].tolist()\n",
    "aanbevolen_k = recepten_klasse_k.aanbeveling(fav_recepten_k)\n",
    "print('De volgende 10 recepten worden aanbevolen voor Kika: ', aanbevolen_k)\n",
    "# precision@10: 7/10= 70%"
   ]
  },
  {
   "cell_type": "markdown",
   "id": "77813fc5-5643-410e-a9d9-6c7dde7fa794",
   "metadata": {},
   "source": [
    "**Araksan**  \n",
    "Uit de 10 aanbevolen recepten voor Araksan, zou zij zelf 6 recepten maken.  \n",
    "De Precision@10 is dan: 6/10 = 0.6"
   ]
  },
  {
   "cell_type": "code",
   "execution_count": null,
   "id": "b83f8a2f-efa5-4fd9-85f1-43047543d5f7",
   "metadata": {},
   "outputs": [],
   "source": [
    "recepten_klasse_a = Recepten('tabellen/data_ingr.csv',schoongemaakt=False)\n",
    "recepten_klasse_a.laad_ingr()\n",
    "fav_recepten_a = recepten_araksan['title'].tolist()\n",
    "aanbevolen_a = recepten_klasse_a.aanbeveling(fav_recepten_a)\n",
    "print('De volgende 10 recepten worden aanbevolen voor Araksan: ', aanbevolen_a)\n",
    "# precision@10: 6/10= 60%"
   ]
  },
  {
   "cell_type": "markdown",
   "id": "c4cfa9d5-5b31-4470-88fb-905f6df9d1fb",
   "metadata": {},
   "source": [
    "**Fenne**  \n",
    "Uit de 10 aanbevolen recepten voor Fenne, zou zij zelf 7 recepten maken.  \n",
    "De Precision@10 is dan: 7/10 = 0.7"
   ]
  },
  {
   "cell_type": "code",
   "execution_count": null,
   "id": "43001df0-e45c-4b20-8cdc-15f6e0759359",
   "metadata": {},
   "outputs": [],
   "source": [
    "recepten_klasse_f = Recepten('tabellen/data_ingr.csv',schoongemaakt=False)\n",
    "recepten_klasse_f.laad_ingr()\n",
    "fav_recepten_f = recepten_fenne['title'].tolist()\n",
    "aanbevolen_f = recepten_klasse_f.aanbeveling(fav_recepten_f)\n",
    "print('De volgende 10 recepten worden aanbevolen voor Fenne: ', aanbevolen_f)\n",
    "# precision@10: 7/10= 70%"
   ]
  },
  {
   "cell_type": "markdown",
   "id": "74ae84eb-d900-491e-8ffa-d554d0c4eed1",
   "metadata": {},
   "source": [
    "**Phealana**  \n",
    "Uit de 10 aanbevolen recepten voor Phealana, zou zij zelf 6 recepten maken.  \n",
    "De Precision@10 is dan: 6/10 = 0.6"
   ]
  },
  {
   "cell_type": "code",
   "execution_count": null,
   "id": "886259bf-5dd3-4f49-b5b5-988459498891",
   "metadata": {},
   "outputs": [],
   "source": [
    "recepten_klasse_p = Recepten('tabellen/data_ingr.csv',schoongemaakt=False)\n",
    "recepten_klasse_p.laad_ingr()\n",
    "fav_recepten_p = recepten_phea['title'].tolist()\n",
    "aanbevolen_p = recepten_klasse_p.aanbeveling(fav_recepten_p)\n",
    "print('De volgende 10 recepten worden aanbevolen voor Phea: ', aanbevolen_p)\n",
    "# precision@10: 6/10= 60%"
   ]
  },
  {
   "cell_type": "markdown",
   "id": "0ee99c50-3fb7-45f1-ae9b-a280a9e637e9",
   "metadata": {},
   "source": [
    "**Uitkomst:**  \n",
    "De gemiddelde Precision@10 voor de orginele dataset is 0.65.\n",
    "Deze uitkomst is lager dan bij de schoongemaakte dataset.\n",
    "We kunnen stellen dat het nuttig was om de dataset op te schonen, omdat de aanbevelingsfunctie dan beter werkt volgens de Precision@10 metriek.\n"
   ]
  },
  {
   "cell_type": "markdown",
   "id": "02371cc0-49b3-48fc-9eaa-ea4873437cce",
   "metadata": {},
   "source": [
    "## Dataverkenning\n",
    "in deelopdracht 1 zijn de data schoongemaakt. Evengoed kunnen er nog fouten in de data zitten: een ingrediënt dat in grammen moet staan staat in kilogrammen bijvoorbeeld. Voordat je verder kunt met de analyse zul je vertrouwen in de data moeten hebben. Zeker in de variabelen die je verder gaat gebruiken (denk aan de extra eis). Bedenk dat de recepten niet allemaal voor evenveel personen zijn en dat de nutriënten wel per persoon zijn.\n",
    "\n",
    "    Overtuig je ervan dat er geen fouten meer in de data zitten. Dit kan o.a. door gebruik te maken van visualisaties.\n",
    "    Beschrijf of je fouten (of uitbijters) hebt gevonden en geef aan hoe je dat hebt opgelost (gecorrigeerd of buiten beschouwing gelaten of iets anders)\n"
   ]
  },
  {
   "cell_type": "code",
   "execution_count": 1,
   "id": "4caf39d1-b7bd-4d08-8430-a78dc3489681",
   "metadata": {
    "tags": []
   },
   "outputs": [
    {
     "data": {
      "image/png": "[encoded data removed]",
      "text/plain": [
       "<Figure size 1500x400 with 1 Axes>"
      ]
     },
     "metadata": {},
     "output_type": "display_data"
    }
   ],
   "source": [
    "import pandas as pd \n",
    "import numpy as np\n",
    "import seaborn as sns\n",
    "import matplotlib.pyplot as plt \n",
    "from scipy.stats import ttest_ind\n",
    "\n",
    "ingr_schoon=pd.read_csv('tabellen/data_ingr_clean.csv') \n",
    "recepten=pd.read_csv('tabellen/data_recipes.csv') \n",
    "plt.figure(figsize=(15,4))\n",
    "sns.boxplot(x=ingr_schoon['quantity'])\n",
    "plt.title('Boxplot van Quantity')\n",
    "plt.xlabel('quantity')\n",
    "plt.grid()\n",
    "plt.show()"
   ]
  },
  {
   "cell_type": "code",
   "execution_count": null,
   "id": "776bed85-c827-4779-99c7-9f713ab8eeed",
   "metadata": {},
   "outputs": [],
   "source": [
    "gr_dan =  ingr_schoon.copy()[(ingr_schoon[\"quantity\"] > 5000)]\n",
    "meest_voorkomend = gr_dan[\"ingredient\"].value_counts().index.tolist()\n",
    "tabel_ds= gr_dan.loc[gr_dan['ingredient'].isin(meest_voorkomend)]\n",
    "gr_dan"
   ]
  },
  {
   "cell_type": "markdown",
   "id": "14d45aec-bd74-45ff-99f6-bfa30db5fdf4",
   "metadata": {},
   "source": [
    "### Hypothesetoets\n",
    "formuleer een vermoeden en bijbehorende hypothesen waarin de extra eis verwerkt is en toets het vermoeden aan de hand van de dataset. Bijvoorbeeld: over bepaalde keukens bestaan vooroordelen. Zo zou de Franse keuken veel gerechten met knoflook bevatten. Als jullie extra eis met knoflook te maken heeft zou je dus kunnen toetsen of de Franse keuken inderdaad vaker knoflook bevat dan gemiddeld.\n",
    "\n",
    "    Denk na over een bepaalde groep recepten (een keuken, of gebruik de tags) en formuleer hier een vermoeden over.\n",
    "    Zorg er daarbij voor dat je dat vermoeden op basis van de gegevens over die recepten kunt toetsen. Denk daarbij vooral aan de nutriënten of ingrediënten (in relatie met jullie extra eis).\n",
    "    Formuleer dit vermoeden in de vorm van een hypothese en toets deze hypothese.\n"
   ]
  },
  {
   "cell_type": "markdown",
   "id": "22dc6162-b7bb-488b-bfc1-7bcc02aefa03",
   "metadata": {
    "tags": []
   },
   "source": [
    "### Regressie-analyse\n",
    "bij deelopdracht 1 hebben jullie gezamenlijk de data schoongemaakt. Daarbij zijn ingrediënten met (praktisch) dezelfde naam onder één naam gebracht en zijn alle ingrediënten omgezet naar grammen. Dat laatste is van belang omdat we nu een analyse willen gaan doen met die ingrediënten.\n",
    "\n",
    "We willen onderzoeken welke ingrediënten in het recept het meeste bijdragen aan een nutriënt. Ingrediënt suiker zal bijvoorbeeld veel bijdragen aan de nutriënt koolhydraten, omdat dat een koolhydraat is.\n",
    "\n",
    "    Kies één van de nutriënten. Daarbij is het weer handig om rekening te houden met jullie extra eis.\n",
    "    Kies een groep gerechten waarin vaak dezelfde ingrediënten gebruikt worden. Zo zal in gebak vaak bloem en suiker gebruikt worden. Zorg dat je op die manier minstens 100 gerechten hebt geselecteerd en zorg dat daarin ten minste drie ingrediënten vaak voorkomen. Je kunt bij de selectie van je gerechten gebruik maken van de tags. Ook hier is het weer handig om je extra eis in gedachten te houden: kijk vooral naar ingrediënten en/of soorten gerechten waar die extra eis mogelijk een rol speelt.\n",
    "    Als het naar jullie mening voor de extra eis mogelijk/wenselijk is om bepaalde ingrediënten samen te voegen (bijvoorbeeld alle groenten bij elkaar, of alle zuivel) kun je ook een categorie of nieuw ingrediënt toevoegen wat de optelling (per recept) van die ingrediënten is.\n",
    "    Zorg, als je dat bij de dataverkenning nog niet had gedaan, dat de ingrediënten en de nutriënten voor dezelfde personen gelden: óf je zet alle ingrediënten om naar 1 persoon, óf je zet alle nutriënten om naar het hele recept (voor het aantal gegeven personen).  \n",
    "    Stel nu een lineair regressiemodel op waarin je als afhankelijke variabele het nutriënt neemt, en als onafhankelijke variabele de (tenminste drie) ingrediënten. Schat met behulp van kleinste kwadraten de coëfficiënten van dit model.\n",
    "    Wat kun je concluderen?\n"
   ]
  },
  {
   "cell_type": "markdown",
   "id": "3a4d91ae-4ccc-4dc3-9753-142bca936d16",
   "metadata": {},
   "source": [
    "### verder in het verslag\n",
    "\n",
    "    Klasse structuur die overerft van de DataFrame klasse en met de bovenstaande onderdelen.\n",
    "    Evaluatie van het aanbevelingsalgoritme met de Precision@10 metriek.\n",
    "    De datavekenning met de conclusie.\n",
    "    De hypothesetoets met de conclusie.\n",
    "    De regressie-analyse met de conclusie.\n"
   ]
  },
  {
   "cell_type": "markdown",
   "id": "ec1591b3-104a-4f56-bc0b-9c1c6a5fbcc3",
   "metadata": {},
   "source": [
    "### Reflectie\n",
    "\n",
    "Dat we geen rekening hebben gehouden met de hoeveelheden van de ingredienten bij de aanbeveling"
   ]
  },
  {
   "cell_type": "markdown",
   "id": "8567b4ce-46f6-4c9e-a8b9-377655d3c5c1",
   "metadata": {},
   "source": [
    "### Bibliografie"
   ]
  },
  {
   "cell_type": "markdown",
   "id": "0f1274c6-d228-4224-8120-c4f8e9e7eb9f",
   "metadata": {},
   "source": []
  }
 ],
 "metadata": {
  "kernelspec": {
   "display_name": "Python 3 (ipykernel)",
   "language": "python",
   "name": "python3"
  },
  "language_info": {
   "codemirror_mode": {
    "name": "ipython",
    "version": 3
   },
   "file_extension": ".py",
   "mimetype": "text/x-python",
   "name": "python",
   "nbconvert_exporter": "python",
   "pygments_lexer": "ipython3",
   "version": "3.10.12"
  }
 },
 "nbformat": 4,
 "nbformat_minor": 5
}
