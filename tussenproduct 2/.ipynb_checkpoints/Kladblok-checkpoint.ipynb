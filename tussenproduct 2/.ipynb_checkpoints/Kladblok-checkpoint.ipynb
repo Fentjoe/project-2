{
 "cells": [
  {
   "cell_type": "code",
   "execution_count": null,
   "id": "626002d2-563d-48e7-9960-df767cf26020",
   "metadata": {},
   "outputs": [],
   "source": [
    "aantal_personen = recepten[recepten['title'].isin(recepten_tbs['recipe'])]  \n",
    "aantal_personen[:5]"
   ]
  },
  {
   "cell_type": "code",
   "execution_count": null,
   "id": "8762a8a5-507f-48c0-937c-fca6b5543bcf",
   "metadata": {},
   "outputs": [],
   "source": [
    "ingr_pp = ingr_pp[(ingr_pp['ingredient'] == 'tarwebloem') | (ingr_pp['ingredient'] == 'ongezouten roomboter') | (ingr_pp['ingredient'] == 'middelgroot ei')]  \n",
    "ingr_pp"
   ]
  },
  {
   "cell_type": "code",
   "execution_count": null,
   "id": "915bbfff-36b6-410e-8759-48205a4cb57d",
   "metadata": {},
   "outputs": [],
   "source": [
    "ingr_pp['middelgroot ei'] = (ingr_pp['ingredient'] == 'middelgroot ei').astype(int)\n",
    "ingr_pp['tarwebloem'] = (ingr_pp['ingredient'] == 'tarwebloem').astype(int)\n",
    "ingr_pp['ongezouten roomboter'] = (ingr_pp['ingredient'] == 'ongezouten roomboter').astype(int)\n",
    "ingr_pp"
   ]
  },
  {
   "cell_type": "code",
   "execution_count": null,
   "id": "8137b236-a14d-4d47-b621-3a8fd3d6a784",
   "metadata": {},
   "outputs": [],
   "source": [
    "ngr_pp['middelgroot ei'] = (ingr_pp['middelgroot ei'] * ingr_pp['quantity'])\n",
    "ingr_pp['tarwebloem'] = (ingr_pp['tarwebloem'] * ingr_pp['quantity'])\n",
    "ingr_pp['ongezouten roomboter'] = (ingr_pp['ongezouten roomboter'] * ingr_pp['quantity'])\n",
    "ingr_pp"
   ]
  }
 ],
 "metadata": {
  "kernelspec": {
   "display_name": "Python 3 (ipykernel)",
   "language": "python",
   "name": "python3"
  },
  "language_info": {
   "codemirror_mode": {
    "name": "ipython",
    "version": 3
   },
   "file_extension": ".py",
   "mimetype": "text/x-python",
   "name": "python",
   "nbconvert_exporter": "python",
   "pygments_lexer": "ipython3",
   "version": "3.10.12"
  }
 },
 "nbformat": 4,
 "nbformat_minor": 5
}
