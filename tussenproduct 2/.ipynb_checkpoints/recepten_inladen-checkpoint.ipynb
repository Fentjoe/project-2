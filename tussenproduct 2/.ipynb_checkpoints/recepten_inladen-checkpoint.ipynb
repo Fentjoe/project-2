{
 "cells": [
  {
   "cell_type": "code",
   "execution_count": null,
   "id": "3cc27720-c52c-46a3-82d3-52842579dc01",
   "metadata": {},
   "outputs": [],
   "source": []
  },
  {
   "cell_type": "code",
   "execution_count": 8,
   "id": "baa64d2e-45fe-4b9b-97bb-1632d50f4da7",
   "metadata": {
    "tags": []
   },
   "outputs": [],
   "source": [
    "import pandas as pd\n",
    "ingr= pd.read_csv('tabellen/data_ingr.csv')\n",
    "recipes=pd.read_csv('tabellen/Recepten_kiezen_g.csv')"
   ]
  },
  {
   "cell_type": "code",
   "execution_count": null,
   "id": "df23ecb1-43bd-42d8-ad7a-26236e7535f4",
   "metadata": {},
   "outputs": [],
   "source": []
  }
 ],
 "metadata": {
  "kernelspec": {
   "display_name": "Python 3 (ipykernel)",
   "language": "python",
   "name": "python3"
  },
  "language_info": {
   "codemirror_mode": {
    "name": "ipython",
    "version": 3
   },
   "file_extension": ".py",
   "mimetype": "text/x-python",
   "name": "python",
   "nbconvert_exporter": "python",
   "pygments_lexer": "ipython3",
   "version": "3.10.12"
  }
 },
 "nbformat": 4,
 "nbformat_minor": 5
}
